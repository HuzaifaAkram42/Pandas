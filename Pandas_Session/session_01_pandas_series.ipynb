{
 "cells": [
  {
   "cell_type": "markdown",
   "id": "eb628f42-d321-466a-b7b5-6dcef5e70b78",
   "metadata": {},
   "source": [
    "# What is Pandas\n",
    "\n",
    "Pandas is a fast, powerful, flexible and easy to use open source data analysis and manipulation tool,\n",
    "built on top of the Python programming language.\n",
    "\n",
    "**Basic data structures in Pandas**\n",
    "Pandas provides two types of classes for handling data: \n",
    "1. **Series:** a one-dimensional labeled array holding data of any type such as integers, strings, Python objects etc.\n",
    "2. **DataFrame:** a two-dimensional data structure that holds data like a two-dimension array or a table with rows and columns.umns.\n"
   ]
  },
  {
   "cell_type": "markdown",
   "id": "fb136b2d-c787-450e-bfa5-379154e99aa4",
   "metadata": {},
   "source": [
    "## Importing Pandas"
   ]
  },
  {
   "cell_type": "code",
   "execution_count": 82,
   "id": "99bf2df3-4ce8-4273-a6f1-1bca72ebccfd",
   "metadata": {
    "editable": true,
    "slideshow": {
     "slide_type": ""
    },
    "tags": []
   },
   "outputs": [],
   "source": [
    "import pandas as pd\n",
    "import numpy as np"
   ]
  },
  {
   "cell_type": "markdown",
   "id": "64450f2b-9d4b-4012-bfb8-ce7193ef0dc9",
   "metadata": {},
   "source": [
    "## Series From Lists"
   ]
  },
  {
   "cell_type": "code",
   "execution_count": 83,
   "id": "252ce30b-2ea0-4ffe-8554-df24723fd684",
   "metadata": {},
   "outputs": [
    {
     "data": {
      "text/plain": [
       "0       Karachi\n",
       "1        Lahore\n",
       "2    Isalamabad\n",
       "3    Rawalpindi\n",
       "4      Peshawar\n",
       "dtype: object"
      ]
     },
     "execution_count": 83,
     "metadata": {},
     "output_type": "execute_result"
    }
   ],
   "source": [
    "# passing a string type list\n",
    "city = [\"Karachi\",\"Lahore\",\"Isalamabad\",\"Rawalpindi\",\"Peshawar\"]\n",
    "pd.Series(city)"
   ]
  },
  {
   "cell_type": "code",
   "execution_count": 84,
   "id": "ea4b4413-9ea1-4097-976f-f2a6552a344b",
   "metadata": {},
   "outputs": [
    {
     "data": {
      "text/plain": [
       "0    48\n",
       "1    80\n",
       "2    99\n",
       "3    41\n",
       "4    50\n",
       "dtype: int64"
      ]
     },
     "execution_count": 84,
     "metadata": {},
     "output_type": "execute_result"
    }
   ],
   "source": [
    "# passing a integer type list\n",
    "marks = [48,80,99,41,50]\n",
    "pd.Series(marks)"
   ]
  },
  {
   "cell_type": "code",
   "execution_count": 85,
   "id": "baee2ed8-c68f-425b-be9f-4d5247267e3a",
   "metadata": {},
   "outputs": [
    {
     "data": {
      "text/plain": [
       "English      85\n",
       "Urdu         68\n",
       "Physics      79\n",
       "Maths        99\n",
       "Chemistry    89\n",
       "dtype: int64"
      ]
     },
     "execution_count": 85,
     "metadata": {},
     "output_type": "execute_result"
    }
   ],
   "source": [
    "# adding custom index instead of default\n",
    "marks = [85,68,79,99,89]\n",
    "subjects = [\"English\",\"Urdu\",\"Physics\",\"Maths\",\"Chemistry\"]\n",
    "pd.Series(marks , index=subjects)"
   ]
  },
  {
   "cell_type": "code",
   "execution_count": 86,
   "id": "a0e050db-f8d6-4ef5-aa9d-7d13a3ef264d",
   "metadata": {},
   "outputs": [
    {
     "data": {
      "text/plain": [
       "English      85\n",
       "Urdu         68\n",
       "Physics      79\n",
       "Maths        99\n",
       "Chemistry    89\n",
       "Name: Matric Class Marks, dtype: int64"
      ]
     },
     "execution_count": 86,
     "metadata": {},
     "output_type": "execute_result"
    }
   ],
   "source": [
    "# adding name to a series with name parameter\n",
    "pd.Series(marks , index=subjects, name=\"Matric Class Marks\")"
   ]
  },
  {
   "cell_type": "markdown",
   "id": "80b99737-87a1-4426-a830-577d72dd0f7a",
   "metadata": {},
   "source": [
    "## Seires From Dictionary"
   ]
  },
  {
   "cell_type": "code",
   "execution_count": 87,
   "id": "53ab7de7-c45e-463a-bf53-5788591418eb",
   "metadata": {},
   "outputs": [
    {
     "data": {
      "text/plain": [
       "English      85\n",
       "Urdu         68\n",
       "Physics      79\n",
       "Maths        99\n",
       "Chemistry    89\n",
       "Name: Matric Class Marks, dtype: int64"
      ]
     },
     "execution_count": 87,
     "metadata": {},
     "output_type": "execute_result"
    }
   ],
   "source": [
    "adict = {\n",
    "    \"English\":85,\n",
    "    \"Urdu\":68,\n",
    "    \"Physics\":79,\n",
    "    \"Maths\":99,\n",
    "    \"Chemistry\":89\n",
    "}\n",
    "marks_series = pd.Series(adict,name=\"Matric Class Marks\")\n",
    "marks_series"
   ]
  },
  {
   "cell_type": "markdown",
   "id": "4e715ecc-393d-4da1-a0d1-1da19f6fe12a",
   "metadata": {},
   "source": [
    "## Series Attributes"
   ]
  },
  {
   "cell_type": "markdown",
   "id": "e0f0e8ff-c828-438a-b328-0682166052e3",
   "metadata": {},
   "source": [
    "### size\n",
    "it is used to count the total elements present in a series"
   ]
  },
  {
   "cell_type": "code",
   "execution_count": 88,
   "id": "a9cd93cd-fee1-410d-9193-e1e489855864",
   "metadata": {},
   "outputs": [
    {
     "data": {
      "text/plain": [
       "English      85\n",
       "Urdu         68\n",
       "Physics      79\n",
       "Maths        99\n",
       "Chemistry    89\n",
       "Name: Matric Class Marks, dtype: int64"
      ]
     },
     "execution_count": 88,
     "metadata": {},
     "output_type": "execute_result"
    }
   ],
   "source": [
    "marks_series"
   ]
  },
  {
   "cell_type": "code",
   "execution_count": 89,
   "id": "7617f525-3af7-4e70-a2f7-d101503a81f1",
   "metadata": {},
   "outputs": [
    {
     "data": {
      "text/plain": [
       "5"
      ]
     },
     "execution_count": 89,
     "metadata": {},
     "output_type": "execute_result"
    }
   ],
   "source": [
    "marks_series.size"
   ]
  },
  {
   "cell_type": "markdown",
   "id": "e7444746-842e-464c-b588-c918cf4b26fc",
   "metadata": {},
   "source": [
    "### dtype\n",
    "it is used to find the data type of any Series."
   ]
  },
  {
   "cell_type": "code",
   "execution_count": 90,
   "id": "c6f574af-949f-459a-8a50-f4ffbe87533a",
   "metadata": {},
   "outputs": [
    {
     "data": {
      "text/plain": [
       "dtype('int64')"
      ]
     },
     "execution_count": 90,
     "metadata": {},
     "output_type": "execute_result"
    }
   ],
   "source": [
    "marks_series.dtype"
   ]
  },
  {
   "cell_type": "markdown",
   "id": "fbb5f6ef-d249-43cf-9be1-dfd5ce1c45e7",
   "metadata": {},
   "source": [
    "### name\n",
    "it is used to find the name of a Series."
   ]
  },
  {
   "cell_type": "code",
   "execution_count": 91,
   "id": "514d9bb1-420c-4a9f-9fa9-bef9f30aa997",
   "metadata": {},
   "outputs": [
    {
     "data": {
      "text/plain": [
       "'Matric Class Marks'"
      ]
     },
     "execution_count": 91,
     "metadata": {},
     "output_type": "execute_result"
    }
   ],
   "source": [
    "marks_series.name"
   ]
  },
  {
   "cell_type": "markdown",
   "id": "bc93713a-760d-457a-aaf9-6186003131fa",
   "metadata": {},
   "source": [
    "### is_unique\n",
    "it is used to check a Series contains unique Vlaues or not. If it contains Unique Values it will return True otherwise it will return False"
   ]
  },
  {
   "cell_type": "code",
   "execution_count": 92,
   "id": "53c6855e-fdb9-409c-8cd4-0929e62f6698",
   "metadata": {},
   "outputs": [
    {
     "data": {
      "text/plain": [
       "True"
      ]
     },
     "execution_count": 92,
     "metadata": {},
     "output_type": "execute_result"
    }
   ],
   "source": [
    "marks_series.is_unique"
   ]
  },
  {
   "cell_type": "code",
   "execution_count": 93,
   "id": "7535cdad-c7bf-49a1-966a-cdae9edceac8",
   "metadata": {},
   "outputs": [
    {
     "data": {
      "text/plain": [
       "False"
      ]
     },
     "execution_count": 93,
     "metadata": {},
     "output_type": "execute_result"
    }
   ],
   "source": [
    "pd.Series([1,2,65,65,434,5,2]).is_unique"
   ]
  },
  {
   "cell_type": "markdown",
   "id": "eea3c361-018c-476d-bab5-1ed269d22251",
   "metadata": {},
   "source": [
    "### index\n",
    "it is used to check the index of a Series. it will returns a list of index of a Series."
   ]
  },
  {
   "cell_type": "code",
   "execution_count": 94,
   "id": "3d8628ec-0267-4199-bc3a-5edf9ad75b4e",
   "metadata": {},
   "outputs": [
    {
     "data": {
      "text/plain": [
       "Index(['English', 'Urdu', 'Physics', 'Maths', 'Chemistry'], dtype='object')"
      ]
     },
     "execution_count": 94,
     "metadata": {},
     "output_type": "execute_result"
    }
   ],
   "source": [
    "marks_series.index"
   ]
  },
  {
   "cell_type": "markdown",
   "id": "f3ea8da1-93f3-4ae8-bed5-355755c6ec03",
   "metadata": {},
   "source": [
    "### values\n",
    "it is used to check the values of a Series. It will return a Numpy array."
   ]
  },
  {
   "cell_type": "code",
   "execution_count": 95,
   "id": "280d3fbc-5506-426f-af13-53c8a1aa1510",
   "metadata": {},
   "outputs": [
    {
     "data": {
      "text/plain": [
       "array([85, 68, 79, 99, 89], dtype=int64)"
      ]
     },
     "execution_count": 95,
     "metadata": {},
     "output_type": "execute_result"
    }
   ],
   "source": [
    "marks_series.values"
   ]
  },
  {
   "cell_type": "markdown",
   "id": "28e1f7dd-9ddc-485b-aed3-d06c33bebd33",
   "metadata": {},
   "source": [
    "## Series using read_csv\n",
    "to use a dataset in pandas for analysis we need to import that dataset and read is used to import any type of dataset.\n",
    "in this we import CSV (comma Seperated Values) dataset.\n",
    "\n",
    "we need to just pass the path of our dataset. when we are import a dataset it will read data by default as dataframe. If we need in Series Structure we can use squeeze() function."
   ]
  },
  {
   "cell_type": "code",
   "execution_count": 96,
   "id": "95c54cb1-2867-4854-bc1e-47b24bcc588d",
   "metadata": {},
   "outputs": [
    {
     "data": {
      "text/html": [
       "<div>\n",
       "<style scoped>\n",
       "    .dataframe tbody tr th:only-of-type {\n",
       "        vertical-align: middle;\n",
       "    }\n",
       "\n",
       "    .dataframe tbody tr th {\n",
       "        vertical-align: top;\n",
       "    }\n",
       "\n",
       "    .dataframe thead th {\n",
       "        text-align: right;\n",
       "    }\n",
       "</style>\n",
       "<table border=\"1\" class=\"dataframe\">\n",
       "  <thead>\n",
       "    <tr style=\"text-align: right;\">\n",
       "      <th></th>\n",
       "      <th>Subscribers gained</th>\n",
       "    </tr>\n",
       "  </thead>\n",
       "  <tbody>\n",
       "    <tr>\n",
       "      <th>0</th>\n",
       "      <td>48</td>\n",
       "    </tr>\n",
       "    <tr>\n",
       "      <th>1</th>\n",
       "      <td>57</td>\n",
       "    </tr>\n",
       "    <tr>\n",
       "      <th>2</th>\n",
       "      <td>40</td>\n",
       "    </tr>\n",
       "    <tr>\n",
       "      <th>3</th>\n",
       "      <td>43</td>\n",
       "    </tr>\n",
       "    <tr>\n",
       "      <th>4</th>\n",
       "      <td>44</td>\n",
       "    </tr>\n",
       "    <tr>\n",
       "      <th>...</th>\n",
       "      <td>...</td>\n",
       "    </tr>\n",
       "    <tr>\n",
       "      <th>360</th>\n",
       "      <td>231</td>\n",
       "    </tr>\n",
       "    <tr>\n",
       "      <th>361</th>\n",
       "      <td>226</td>\n",
       "    </tr>\n",
       "    <tr>\n",
       "      <th>362</th>\n",
       "      <td>155</td>\n",
       "    </tr>\n",
       "    <tr>\n",
       "      <th>363</th>\n",
       "      <td>144</td>\n",
       "    </tr>\n",
       "    <tr>\n",
       "      <th>364</th>\n",
       "      <td>172</td>\n",
       "    </tr>\n",
       "  </tbody>\n",
       "</table>\n",
       "<p>365 rows × 1 columns</p>\n",
       "</div>"
      ],
      "text/plain": [
       "     Subscribers gained\n",
       "0                    48\n",
       "1                    57\n",
       "2                    40\n",
       "3                    43\n",
       "4                    44\n",
       "..                  ...\n",
       "360                 231\n",
       "361                 226\n",
       "362                 155\n",
       "363                 144\n",
       "364                 172\n",
       "\n",
       "[365 rows x 1 columns]"
      ]
     },
     "execution_count": 96,
     "metadata": {},
     "output_type": "execute_result"
    }
   ],
   "source": [
    "subs = pd.read_csv(\"Datasets\\\\subs.csv\")\n",
    "subs"
   ]
  },
  {
   "cell_type": "code",
   "execution_count": 97,
   "id": "6bed0fb6-9110-4949-aabf-011ca43304f0",
   "metadata": {},
   "outputs": [
    {
     "data": {
      "text/plain": [
       "0       48\n",
       "1       57\n",
       "2       40\n",
       "3       43\n",
       "4       44\n",
       "      ... \n",
       "360    231\n",
       "361    226\n",
       "362    155\n",
       "363    144\n",
       "364    172\n",
       "Name: Subscribers gained, Length: 365, dtype: int64"
      ]
     },
     "execution_count": 97,
     "metadata": {},
     "output_type": "execute_result"
    }
   ],
   "source": [
    "subs = subs.squeeze()\n",
    "subs"
   ]
  },
  {
   "cell_type": "code",
   "execution_count": 98,
   "id": "012b3a07-182c-437f-9b5f-073a28566cd3",
   "metadata": {},
   "outputs": [
    {
     "data": {
      "text/html": [
       "<div>\n",
       "<style scoped>\n",
       "    .dataframe tbody tr th:only-of-type {\n",
       "        vertical-align: middle;\n",
       "    }\n",
       "\n",
       "    .dataframe tbody tr th {\n",
       "        vertical-align: top;\n",
       "    }\n",
       "\n",
       "    .dataframe thead th {\n",
       "        text-align: right;\n",
       "    }\n",
       "</style>\n",
       "<table border=\"1\" class=\"dataframe\">\n",
       "  <thead>\n",
       "    <tr style=\"text-align: right;\">\n",
       "      <th></th>\n",
       "      <th>runs</th>\n",
       "    </tr>\n",
       "    <tr>\n",
       "      <th>match_no</th>\n",
       "      <th></th>\n",
       "    </tr>\n",
       "  </thead>\n",
       "  <tbody>\n",
       "    <tr>\n",
       "      <th>1</th>\n",
       "      <td>1</td>\n",
       "    </tr>\n",
       "    <tr>\n",
       "      <th>2</th>\n",
       "      <td>23</td>\n",
       "    </tr>\n",
       "    <tr>\n",
       "      <th>3</th>\n",
       "      <td>13</td>\n",
       "    </tr>\n",
       "    <tr>\n",
       "      <th>4</th>\n",
       "      <td>12</td>\n",
       "    </tr>\n",
       "    <tr>\n",
       "      <th>5</th>\n",
       "      <td>1</td>\n",
       "    </tr>\n",
       "    <tr>\n",
       "      <th>...</th>\n",
       "      <td>...</td>\n",
       "    </tr>\n",
       "    <tr>\n",
       "      <th>211</th>\n",
       "      <td>0</td>\n",
       "    </tr>\n",
       "    <tr>\n",
       "      <th>212</th>\n",
       "      <td>20</td>\n",
       "    </tr>\n",
       "    <tr>\n",
       "      <th>213</th>\n",
       "      <td>73</td>\n",
       "    </tr>\n",
       "    <tr>\n",
       "      <th>214</th>\n",
       "      <td>25</td>\n",
       "    </tr>\n",
       "    <tr>\n",
       "      <th>215</th>\n",
       "      <td>7</td>\n",
       "    </tr>\n",
       "  </tbody>\n",
       "</table>\n",
       "<p>215 rows × 1 columns</p>\n",
       "</div>"
      ],
      "text/plain": [
       "          runs\n",
       "match_no      \n",
       "1            1\n",
       "2           23\n",
       "3           13\n",
       "4           12\n",
       "5            1\n",
       "...        ...\n",
       "211          0\n",
       "212         20\n",
       "213         73\n",
       "214         25\n",
       "215          7\n",
       "\n",
       "[215 rows x 1 columns]"
      ]
     },
     "execution_count": 98,
     "metadata": {},
     "output_type": "execute_result"
    }
   ],
   "source": [
    "vk = pd.read_csv('Datasets\\\\kohli_ipl.csv',index_col=\"match_no\")\n",
    "vk"
   ]
  },
  {
   "cell_type": "code",
   "execution_count": 99,
   "id": "43111d65-6b87-40d9-b16c-d062465bad7e",
   "metadata": {},
   "outputs": [
    {
     "data": {
      "text/plain": [
       "match_no\n",
       "1       1\n",
       "2      23\n",
       "3      13\n",
       "4      12\n",
       "5       1\n",
       "       ..\n",
       "211     0\n",
       "212    20\n",
       "213    73\n",
       "214    25\n",
       "215     7\n",
       "Name: runs, Length: 215, dtype: int64"
      ]
     },
     "execution_count": 99,
     "metadata": {},
     "output_type": "execute_result"
    }
   ],
   "source": [
    "vk = vk.squeeze()\n",
    "vk"
   ]
  },
  {
   "cell_type": "code",
   "execution_count": 100,
   "id": "20a962fc-45ff-4dee-a845-a0a16d5096a1",
   "metadata": {},
   "outputs": [
    {
     "data": {
      "text/html": [
       "<div>\n",
       "<style scoped>\n",
       "    .dataframe tbody tr th:only-of-type {\n",
       "        vertical-align: middle;\n",
       "    }\n",
       "\n",
       "    .dataframe tbody tr th {\n",
       "        vertical-align: top;\n",
       "    }\n",
       "\n",
       "    .dataframe thead th {\n",
       "        text-align: right;\n",
       "    }\n",
       "</style>\n",
       "<table border=\"1\" class=\"dataframe\">\n",
       "  <thead>\n",
       "    <tr style=\"text-align: right;\">\n",
       "      <th></th>\n",
       "      <th>lead</th>\n",
       "    </tr>\n",
       "    <tr>\n",
       "      <th>movie</th>\n",
       "      <th></th>\n",
       "    </tr>\n",
       "  </thead>\n",
       "  <tbody>\n",
       "    <tr>\n",
       "      <th>Uri: The Surgical Strike</th>\n",
       "      <td>Vicky Kaushal</td>\n",
       "    </tr>\n",
       "    <tr>\n",
       "      <th>Battalion 609</th>\n",
       "      <td>Vicky Ahuja</td>\n",
       "    </tr>\n",
       "    <tr>\n",
       "      <th>The Accidental Prime Minister (film)</th>\n",
       "      <td>Anupam Kher</td>\n",
       "    </tr>\n",
       "    <tr>\n",
       "      <th>Why Cheat India</th>\n",
       "      <td>Emraan Hashmi</td>\n",
       "    </tr>\n",
       "    <tr>\n",
       "      <th>Evening Shadows</th>\n",
       "      <td>Mona Ambegaonkar</td>\n",
       "    </tr>\n",
       "    <tr>\n",
       "      <th>...</th>\n",
       "      <td>...</td>\n",
       "    </tr>\n",
       "    <tr>\n",
       "      <th>Hum Tumhare Hain Sanam</th>\n",
       "      <td>Shah Rukh Khan</td>\n",
       "    </tr>\n",
       "    <tr>\n",
       "      <th>Aankhen (2002 film)</th>\n",
       "      <td>Amitabh Bachchan</td>\n",
       "    </tr>\n",
       "    <tr>\n",
       "      <th>Saathiya (film)</th>\n",
       "      <td>Vivek Oberoi</td>\n",
       "    </tr>\n",
       "    <tr>\n",
       "      <th>Company (film)</th>\n",
       "      <td>Ajay Devgn</td>\n",
       "    </tr>\n",
       "    <tr>\n",
       "      <th>Awara Paagal Deewana</th>\n",
       "      <td>Akshay Kumar</td>\n",
       "    </tr>\n",
       "  </tbody>\n",
       "</table>\n",
       "<p>1500 rows × 1 columns</p>\n",
       "</div>"
      ],
      "text/plain": [
       "                                                  lead\n",
       "movie                                                 \n",
       "Uri: The Surgical Strike                 Vicky Kaushal\n",
       "Battalion 609                              Vicky Ahuja\n",
       "The Accidental Prime Minister (film)       Anupam Kher\n",
       "Why Cheat India                          Emraan Hashmi\n",
       "Evening Shadows                       Mona Ambegaonkar\n",
       "...                                                ...\n",
       "Hum Tumhare Hain Sanam                  Shah Rukh Khan\n",
       "Aankhen (2002 film)                   Amitabh Bachchan\n",
       "Saathiya (film)                           Vivek Oberoi\n",
       "Company (film)                              Ajay Devgn\n",
       "Awara Paagal Deewana                      Akshay Kumar\n",
       "\n",
       "[1500 rows x 1 columns]"
      ]
     },
     "execution_count": 100,
     "metadata": {},
     "output_type": "execute_result"
    }
   ],
   "source": [
    "movies = pd.read_csv('Datasets\\\\bollywood.csv',index_col = 'movie')\n",
    "movies"
   ]
  },
  {
   "cell_type": "code",
   "execution_count": 101,
   "id": "7432b764-9754-4ea8-b4f2-e6830b32fca3",
   "metadata": {},
   "outputs": [
    {
     "data": {
      "text/plain": [
       "movie\n",
       "Uri: The Surgical Strike                   Vicky Kaushal\n",
       "Battalion 609                                Vicky Ahuja\n",
       "The Accidental Prime Minister (film)         Anupam Kher\n",
       "Why Cheat India                            Emraan Hashmi\n",
       "Evening Shadows                         Mona Ambegaonkar\n",
       "                                              ...       \n",
       "Hum Tumhare Hain Sanam                    Shah Rukh Khan\n",
       "Aankhen (2002 film)                     Amitabh Bachchan\n",
       "Saathiya (film)                             Vivek Oberoi\n",
       "Company (film)                                Ajay Devgn\n",
       "Awara Paagal Deewana                        Akshay Kumar\n",
       "Name: lead, Length: 1500, dtype: object"
      ]
     },
     "execution_count": 101,
     "metadata": {},
     "output_type": "execute_result"
    }
   ],
   "source": [
    "movies = movies.squeeze()\n",
    "movies"
   ]
  },
  {
   "cell_type": "markdown",
   "id": "4b836db5-f767-42f7-ba05-2224de16866f",
   "metadata": {},
   "source": [
    "## Series methods"
   ]
  },
  {
   "cell_type": "markdown",
   "id": "25b9ccd2-8470-4967-a49e-ca7aee79e3c3",
   "metadata": {},
   "source": [
    "### head()\n",
    "- The head() method in pandas is used to display the first few rows of a DataFrame or Series.\n",
    "- By default, it shows the first 5 rows, but you can specify a different number of rows as an argument if needed."
   ]
  },
  {
   "cell_type": "code",
   "execution_count": 102,
   "id": "99989ba5-14a6-4e23-9dce-0f762ebd6eac",
   "metadata": {},
   "outputs": [
    {
     "data": {
      "text/plain": [
       "0    48\n",
       "1    57\n",
       "2    40\n",
       "3    43\n",
       "4    44\n",
       "Name: Subscribers gained, dtype: int64"
      ]
     },
     "execution_count": 102,
     "metadata": {},
     "output_type": "execute_result"
    }
   ],
   "source": [
    "subs.head()"
   ]
  },
  {
   "cell_type": "code",
   "execution_count": 103,
   "id": "28186aa0-fd31-45f3-8bab-7907e712cc1f",
   "metadata": {},
   "outputs": [
    {
     "data": {
      "text/plain": [
       "match_no\n",
       "1     1\n",
       "2    23\n",
       "3    13\n",
       "4    12\n",
       "5     1\n",
       "Name: runs, dtype: int64"
      ]
     },
     "execution_count": 103,
     "metadata": {},
     "output_type": "execute_result"
    }
   ],
   "source": [
    "vk.head()"
   ]
  },
  {
   "cell_type": "code",
   "execution_count": 104,
   "id": "f7723a30-a92d-4f4c-9142-966ae47b0ed2",
   "metadata": {},
   "outputs": [
    {
     "data": {
      "text/plain": [
       "match_no\n",
       "1      1\n",
       "2     23\n",
       "3     13\n",
       "4     12\n",
       "5      1\n",
       "6      9\n",
       "7     34\n",
       "8      0\n",
       "9     21\n",
       "10     3\n",
       "Name: runs, dtype: int64"
      ]
     },
     "execution_count": 104,
     "metadata": {},
     "output_type": "execute_result"
    }
   ],
   "source": [
    "# lets say i want to check the first 10 Ipl mathces runs of Virat Kohli\n",
    "vk.head(10)"
   ]
  },
  {
   "cell_type": "markdown",
   "id": "68379054-6acb-4db3-8f9e-dbd2fa51be4d",
   "metadata": {},
   "source": [
    "### tail()\n",
    "- The tail() method in pandas is used to display the last few rows of a DataFrame or Series.\n",
    "- By default, it shows the last 5 rows, but you can specify a different number of rows as an argument if needed."
   ]
  },
  {
   "cell_type": "code",
   "execution_count": 105,
   "id": "8000f593-2c65-441e-abe3-200ebb887599",
   "metadata": {},
   "outputs": [
    {
     "data": {
      "text/plain": [
       "movie\n",
       "Hum Tumhare Hain Sanam      Shah Rukh Khan\n",
       "Aankhen (2002 film)       Amitabh Bachchan\n",
       "Saathiya (film)               Vivek Oberoi\n",
       "Company (film)                  Ajay Devgn\n",
       "Awara Paagal Deewana          Akshay Kumar\n",
       "Name: lead, dtype: object"
      ]
     },
     "execution_count": 105,
     "metadata": {},
     "output_type": "execute_result"
    }
   ],
   "source": [
    "movies.tail()"
   ]
  },
  {
   "cell_type": "code",
   "execution_count": 106,
   "id": "6fd73272-bce2-48fc-be29-d68d358ac658",
   "metadata": {},
   "outputs": [
    {
     "data": {
      "text/plain": [
       "movie\n",
       "Waisa Bhi Hota Hai Part II        Arshad Warsi\n",
       "Devdas (2002 Hindi film)        Shah Rukh Khan\n",
       "Kaante                        Amitabh Bachchan\n",
       "Hum Tumhare Hain Sanam          Shah Rukh Khan\n",
       "Aankhen (2002 film)           Amitabh Bachchan\n",
       "Saathiya (film)                   Vivek Oberoi\n",
       "Company (film)                      Ajay Devgn\n",
       "Awara Paagal Deewana              Akshay Kumar\n",
       "Name: lead, dtype: object"
      ]
     },
     "execution_count": 106,
     "metadata": {},
     "output_type": "execute_result"
    }
   ],
   "source": [
    "movies.tail(8)"
   ]
  },
  {
   "cell_type": "markdown",
   "id": "a6875da9-db8f-426b-9363-c006ce0f4e5c",
   "metadata": {},
   "source": [
    "### sample()\n",
    "- The sample() method in pandas is used to generate a random sample of items from a DataFrame or Series. \n",
    "- It is useful when you want to randomly select rows from your data for various purposes, such as data exploration, testing, or creating training and validation sets."
   ]
  },
  {
   "cell_type": "code",
   "execution_count": 107,
   "id": "23a3e929-8108-479d-b449-49ac336e5aeb",
   "metadata": {},
   "outputs": [
    {
     "data": {
      "text/plain": [
       "movie\n",
       "Aloo Chaat (film)                         Aftab Shivdasani\n",
       "Chal Pichchur Banate Hain                   Sagar Bhangade\n",
       "Kabir Singh                                  Shahid Kapoor\n",
       "Main Madhuri Dixit Banna Chahti Hoon           Antara Mali\n",
       "Article 15 (film)                       Ayushmann Khurrana\n",
       "Name: lead, dtype: object"
      ]
     },
     "execution_count": 107,
     "metadata": {},
     "output_type": "execute_result"
    }
   ],
   "source": [
    "movies.sample(5)"
   ]
  },
  {
   "cell_type": "code",
   "execution_count": 108,
   "id": "c02b9e9c-661b-4d1e-b4a4-d751dc510d77",
   "metadata": {},
   "outputs": [
    {
     "data": {
      "text/plain": [
       "movie\n",
       "Haunted – 3D                   Mimoh Chakraborty\n",
       "Mr. X (2015 film)                  Emraan Hashmi\n",
       "Kaun Kitne Paani Mein               Kunal Kapoor\n",
       "Main Krishna Hoon                    Juhi Chawla\n",
       "Aasma: The Sky Is the Limit      Hrishitaa Bhatt\n",
       "De Taali                        Aftab Shivdasani\n",
       "Shaadi Ke Side Effects             Farhan Akhtar\n",
       "Tezz                                 Anil Kapoor\n",
       "Chef (2017 film)                   Saif Ali Khan\n",
       "Awarapan                           Emraan Hashmi\n",
       "Name: lead, dtype: object"
      ]
     },
     "execution_count": 108,
     "metadata": {},
     "output_type": "execute_result"
    }
   ],
   "source": [
    "movies.sample(10)"
   ]
  },
  {
   "cell_type": "markdown",
   "id": "725404e9-5597-4577-8b4f-118294f34a25",
   "metadata": {},
   "source": [
    "### value_counts()\n",
    "- the value_counts() function is used to get a series containing counts of unique values. \n",
    "- It is a convenient method to quickly summarize and understand the distribution of values in a column Series.\n",
    "- for understanding value_counts() we assume a scenerio Question."
   ]
  },
  {
   "cell_type": "code",
   "execution_count": 109,
   "id": "e9b6a8b3-ad80-4aa4-beb7-5108d8014104",
   "metadata": {},
   "outputs": [
    {
     "data": {
      "text/plain": [
       "movie\n",
       "Uri: The Surgical Strike                   Vicky Kaushal\n",
       "Battalion 609                                Vicky Ahuja\n",
       "The Accidental Prime Minister (film)         Anupam Kher\n",
       "Why Cheat India                            Emraan Hashmi\n",
       "Evening Shadows                         Mona Ambegaonkar\n",
       "                                              ...       \n",
       "Hum Tumhare Hain Sanam                    Shah Rukh Khan\n",
       "Aankhen (2002 film)                     Amitabh Bachchan\n",
       "Saathiya (film)                             Vivek Oberoi\n",
       "Company (film)                                Ajay Devgn\n",
       "Awara Paagal Deewana                        Akshay Kumar\n",
       "Name: lead, Length: 1500, dtype: object"
      ]
     },
     "execution_count": 109,
     "metadata": {},
     "output_type": "execute_result"
    }
   ],
   "source": [
    "# lets say i want to check how many movies has each actor done?\n",
    "movies"
   ]
  },
  {
   "cell_type": "code",
   "execution_count": 110,
   "id": "f0d9cc74-a756-492a-af17-6494094c07d0",
   "metadata": {},
   "outputs": [
    {
     "data": {
      "text/plain": [
       "lead\n",
       "Akshay Kumar        48\n",
       "Amitabh Bachchan    45\n",
       "Ajay Devgn          38\n",
       "Salman Khan         31\n",
       "Sanjay Dutt         26\n",
       "                    ..\n",
       "Diganth              1\n",
       "Parveen Kaur         1\n",
       "Seema Azmi           1\n",
       "Akanksha Puri        1\n",
       "Edwin Fernandes      1\n",
       "Name: count, Length: 566, dtype: int64"
      ]
     },
     "execution_count": 110,
     "metadata": {},
     "output_type": "execute_result"
    }
   ],
   "source": [
    "# lets say i want to check how many movies has each actor done?\n",
    "movies.value_counts()"
   ]
  },
  {
   "cell_type": "markdown",
   "id": "35aad987-997d-4307-b628-e4563530c7b8",
   "metadata": {},
   "source": [
    "### sort_values()\n",
    "- The sort_values() function in pandas is used to sort the values in a DataFrame or Series.\n",
    "- sort values does not sort permenantly but it can change values temporary.\n",
    "- we can understand this method by answering an intersting Question."
   ]
  },
  {
   "cell_type": "code",
   "execution_count": 111,
   "id": "47e1badd-04f2-4442-887a-1b444283c946",
   "metadata": {},
   "outputs": [
    {
     "data": {
      "text/plain": [
       "match_no\n",
       "87       0\n",
       "211      0\n",
       "207      0\n",
       "206      0\n",
       "91       0\n",
       "      ... \n",
       "164    100\n",
       "120    100\n",
       "123    108\n",
       "126    109\n",
       "128    113\n",
       "Name: runs, Length: 215, dtype: int64"
      ]
     },
     "execution_count": 111,
     "metadata": {},
     "output_type": "execute_result"
    }
   ],
   "source": [
    "# lets say we need to find the highest runs scored by virat kohli in an ipl match?\n",
    "vk.sort_values() # it will sort in ascending order"
   ]
  },
  {
   "cell_type": "code",
   "execution_count": 112,
   "id": "c85953f8-fc64-4ec3-90f4-e09ef1aff262",
   "metadata": {},
   "outputs": [
    {
     "data": {
      "text/plain": [
       "match_no\n",
       "128    113\n",
       "126    109\n",
       "123    108\n",
       "164    100\n",
       "120    100\n",
       "      ... \n",
       "93       0\n",
       "211      0\n",
       "130      0\n",
       "8        0\n",
       "135      0\n",
       "Name: runs, Length: 215, dtype: int64"
      ]
     },
     "execution_count": 112,
     "metadata": {},
     "output_type": "execute_result"
    }
   ],
   "source": [
    "# but we want in descending order by adding false in ascending parameter\n",
    "vk.sort_values(ascending=False)"
   ]
  },
  {
   "cell_type": "code",
   "execution_count": 113,
   "id": "09a4b39d-fe78-414e-9e67-efa4e4cb4433",
   "metadata": {},
   "outputs": [
    {
     "data": {
      "text/plain": [
       "match_no\n",
       "128    113\n",
       "Name: runs, dtype: int64"
      ]
     },
     "execution_count": 113,
     "metadata": {},
     "output_type": "execute_result"
    }
   ],
   "source": [
    "# now we can find highest score like this --->\n",
    "vk.sort_values(ascending=False).head(1)"
   ]
  },
  {
   "cell_type": "code",
   "execution_count": 114,
   "id": "a7de628a-d9b0-49fe-9675-eab4af646e5e",
   "metadata": {},
   "outputs": [
    {
     "data": {
      "text/plain": [
       "array([113], dtype=int64)"
      ]
     },
     "execution_count": 114,
     "metadata": {},
     "output_type": "execute_result"
    }
   ],
   "source": [
    "vk.sort_values(ascending=False).head(1).values"
   ]
  },
  {
   "cell_type": "code",
   "execution_count": 115,
   "id": "3a1f510b-93de-406c-a995-015e224f3a26",
   "metadata": {},
   "outputs": [
    {
     "data": {
      "text/plain": [
       "113"
      ]
     },
     "execution_count": 115,
     "metadata": {},
     "output_type": "execute_result"
    }
   ],
   "source": [
    "vk.sort_values(ascending=False).head(1).values[0]\n",
    "# this is the final answer"
   ]
  },
  {
   "cell_type": "code",
   "execution_count": 116,
   "id": "9abc8eb9-20bd-4f7a-9651-9e471466d5cd",
   "metadata": {},
   "outputs": [],
   "source": [
    "vk_copy = vk.copy()"
   ]
  },
  {
   "cell_type": "code",
   "execution_count": 117,
   "id": "272096ce-5694-4196-aea7-ef3f577c049e",
   "metadata": {},
   "outputs": [],
   "source": [
    "vk_copy.sort_values(ascending=False, inplace=True)"
   ]
  },
  {
   "cell_type": "code",
   "execution_count": 118,
   "id": "325e9598-cd36-458a-ba96-683f17edbdde",
   "metadata": {},
   "outputs": [
    {
     "data": {
      "text/plain": [
       "match_no\n",
       "128    113\n",
       "126    109\n",
       "123    108\n",
       "164    100\n",
       "120    100\n",
       "      ... \n",
       "93       0\n",
       "211      0\n",
       "130      0\n",
       "8        0\n",
       "135      0\n",
       "Name: runs, Length: 215, dtype: int64"
      ]
     },
     "execution_count": 118,
     "metadata": {},
     "output_type": "execute_result"
    }
   ],
   "source": [
    "vk_copy"
   ]
  },
  {
   "cell_type": "code",
   "execution_count": 119,
   "id": "2eb161c8-3f84-47d1-b014-3bcca06e8346",
   "metadata": {},
   "outputs": [
    {
     "data": {
      "text/plain": [
       "match_no\n",
       "1       1\n",
       "2      23\n",
       "3      13\n",
       "4      12\n",
       "5       1\n",
       "       ..\n",
       "211     0\n",
       "212    20\n",
       "213    73\n",
       "214    25\n",
       "215     7\n",
       "Name: runs, Length: 215, dtype: int64"
      ]
     },
     "execution_count": 119,
     "metadata": {},
     "output_type": "execute_result"
    }
   ],
   "source": [
    "vk"
   ]
  },
  {
   "cell_type": "markdown",
   "id": "649b9d05-342c-4dab-8694-5228c9e37b3b",
   "metadata": {},
   "source": [
    "### sort_index\n",
    "- The sort_index() function in pandas is used to sort a DataFrame or Series by its index. \n",
    "- It returns a new object with the data sorted by the index."
   ]
  },
  {
   "cell_type": "code",
   "execution_count": 120,
   "id": "fc1c17af-9f55-49e9-92f6-439e9ee13122",
   "metadata": {},
   "outputs": [
    {
     "data": {
      "text/plain": [
       "movie\n",
       "Uri: The Surgical Strike                   Vicky Kaushal\n",
       "Battalion 609                                Vicky Ahuja\n",
       "The Accidental Prime Minister (film)         Anupam Kher\n",
       "Why Cheat India                            Emraan Hashmi\n",
       "Evening Shadows                         Mona Ambegaonkar\n",
       "                                              ...       \n",
       "Hum Tumhare Hain Sanam                    Shah Rukh Khan\n",
       "Aankhen (2002 film)                     Amitabh Bachchan\n",
       "Saathiya (film)                             Vivek Oberoi\n",
       "Company (film)                                Ajay Devgn\n",
       "Awara Paagal Deewana                        Akshay Kumar\n",
       "Name: lead, Length: 1500, dtype: object"
      ]
     },
     "execution_count": 120,
     "metadata": {},
     "output_type": "execute_result"
    }
   ],
   "source": [
    "movies"
   ]
  },
  {
   "cell_type": "code",
   "execution_count": 121,
   "id": "39eba6ef-b7f9-4e8e-a9da-fb51de2083c2",
   "metadata": {},
   "outputs": [
    {
     "data": {
      "text/plain": [
       "movie\n",
       "1920 (film)                   Rajniesh Duggall\n",
       "1920: London                     Sharman Joshi\n",
       "1920: The Evil Returns             Vicky Ahuja\n",
       "1971 (2007 film)                Manoj Bajpayee\n",
       "2 States (2014 film)              Arjun Kapoor\n",
       "                                   ...        \n",
       "Zindagi 50-50                      Veena Malik\n",
       "Zindagi Na Milegi Dobara        Hrithik Roshan\n",
       "Zindagi Tere Naam           Mithun Chakraborty\n",
       "Zokkomon                       Darsheel Safary\n",
       "Zor Lagaa Ke...Haiya!            Meghan Jadhav\n",
       "Name: lead, Length: 1500, dtype: object"
      ]
     },
     "execution_count": 121,
     "metadata": {},
     "output_type": "execute_result"
    }
   ],
   "source": [
    "movies.sort_index()"
   ]
  },
  {
   "cell_type": "code",
   "execution_count": 122,
   "id": "d609e403-39c4-41b3-bfb3-e6b4c843baa6",
   "metadata": {},
   "outputs": [
    {
     "data": {
      "text/plain": [
       "movie\n",
       "Zor Lagaa Ke...Haiya!            Meghan Jadhav\n",
       "Zokkomon                       Darsheel Safary\n",
       "Zindagi Tere Naam           Mithun Chakraborty\n",
       "Zindagi Na Milegi Dobara        Hrithik Roshan\n",
       "Zindagi 50-50                      Veena Malik\n",
       "                                   ...        \n",
       "2 States (2014 film)              Arjun Kapoor\n",
       "1971 (2007 film)                Manoj Bajpayee\n",
       "1920: The Evil Returns             Vicky Ahuja\n",
       "1920: London                     Sharman Joshi\n",
       "1920 (film)                   Rajniesh Duggall\n",
       "Name: lead, Length: 1500, dtype: object"
      ]
     },
     "execution_count": 122,
     "metadata": {},
     "output_type": "execute_result"
    }
   ],
   "source": [
    "movies.sort_index(ascending=False)"
   ]
  },
  {
   "cell_type": "markdown",
   "id": "2bebb109-dd6d-4d46-8423-67eb21303876",
   "metadata": {},
   "source": [
    "## Series Math Methods"
   ]
  },
  {
   "cell_type": "markdown",
   "id": "64b629dd-2c1a-4aff-954e-520aca70bb73",
   "metadata": {},
   "source": [
    "### count()\n",
    "- The count() method in pandas is used to count the number of non-null (non-missing) values in a DataFrame or Series. \n",
    "- It returns the number of non-null elements along a particular axis.\n",
    "- size attribute is used to count values but it also counts the missing or Null Values but the count() is not counting the missing values."
   ]
  },
  {
   "cell_type": "code",
   "execution_count": 123,
   "id": "9c97b28d-d751-4bcf-96ef-f76f6348b835",
   "metadata": {},
   "outputs": [
    {
     "data": {
      "text/plain": [
       "215"
      ]
     },
     "execution_count": 123,
     "metadata": {},
     "output_type": "execute_result"
    }
   ],
   "source": [
    "vk.count()"
   ]
  },
  {
   "cell_type": "code",
   "execution_count": 124,
   "id": "6081d7f0-b5c7-42b7-a947-fd92c7538071",
   "metadata": {},
   "outputs": [
    {
     "data": {
      "text/plain": [
       "1500"
      ]
     },
     "execution_count": 124,
     "metadata": {},
     "output_type": "execute_result"
    }
   ],
   "source": [
    "movies.count()"
   ]
  },
  {
   "cell_type": "code",
   "execution_count": 125,
   "id": "fe6869fb-c9dd-4baf-9bde-87962eb4f629",
   "metadata": {},
   "outputs": [
    {
     "data": {
      "text/plain": [
       "365"
      ]
     },
     "execution_count": 125,
     "metadata": {},
     "output_type": "execute_result"
    }
   ],
   "source": [
    "subs.count()"
   ]
  },
  {
   "cell_type": "markdown",
   "id": "7a4a99d1-2aa9-42f6-b0b4-d68fc9c5c05d",
   "metadata": {},
   "source": [
    "### sum()\n",
    "- The sum() method in pandas is used to calculate the sum of values in a Series.\n",
    "- It adds up all the numeric values"
   ]
  },
  {
   "cell_type": "code",
   "execution_count": 126,
   "id": "d1cc97a7-a3ad-4d84-93b5-5e00a7ef703c",
   "metadata": {},
   "outputs": [
    {
     "data": {
      "text/plain": [
       "6634"
      ]
     },
     "execution_count": 126,
     "metadata": {},
     "output_type": "execute_result"
    }
   ],
   "source": [
    "# virat kohli total ipl runs\n",
    "vk.sum()"
   ]
  },
  {
   "cell_type": "code",
   "execution_count": 127,
   "id": "fb1b37e3-b1c4-463b-8caa-60d526ae237a",
   "metadata": {},
   "outputs": [
    {
     "data": {
      "text/plain": [
       "49510"
      ]
     },
     "execution_count": 127,
     "metadata": {},
     "output_type": "execute_result"
    }
   ],
   "source": [
    "subs.sum()"
   ]
  },
  {
   "cell_type": "markdown",
   "id": "777edc17-f261-4412-95cb-243ef052f0e1",
   "metadata": {},
   "source": [
    "### product()\n",
    "- The prod() method in pandas is used to calculate the product of values in a Series. \n",
    "- It multiplies all the numeric values"
   ]
  },
  {
   "cell_type": "code",
   "execution_count": 128,
   "id": "24ca5ccd-53c1-483c-84d5-1dfc1dece48d",
   "metadata": {},
   "outputs": [
    {
     "data": {
      "text/plain": [
       "0"
      ]
     },
     "execution_count": 128,
     "metadata": {},
     "output_type": "execute_result"
    }
   ],
   "source": [
    "vk.product()"
   ]
  },
  {
   "cell_type": "code",
   "execution_count": 129,
   "id": "c8a0551f-39d0-423f-b6d7-e7bda8352a66",
   "metadata": {},
   "outputs": [
    {
     "data": {
      "text/plain": [
       "0"
      ]
     },
     "execution_count": 129,
     "metadata": {},
     "output_type": "execute_result"
    }
   ],
   "source": [
    "subs.product()"
   ]
  },
  {
   "cell_type": "code",
   "execution_count": 130,
   "id": "e14297ef-b94f-494c-bc3b-8ee2eb541414",
   "metadata": {},
   "outputs": [
    {
     "name": "stdout",
     "output_type": "stream",
     "text": [
      "120\n"
     ]
    }
   ],
   "source": [
    "s = pd.Series([2, 3, 4, 5])\n",
    "total_product = s.product()\n",
    "print(total_product)"
   ]
  },
  {
   "cell_type": "markdown",
   "id": "f9f37925-d054-4673-869b-5ee7e48f9408",
   "metadata": {},
   "source": [
    "### mean()\n",
    "- The mean() method in pandas is used to calculate the mean (average) of values in a Series. \n",
    "- It returns the average of the numeric values."
   ]
  },
  {
   "cell_type": "code",
   "execution_count": 131,
   "id": "1dfad9d0-631b-49f0-bfe3-d4eafd6f3f71",
   "metadata": {},
   "outputs": [
    {
     "data": {
      "text/plain": [
       "30.855813953488372"
      ]
     },
     "execution_count": 131,
     "metadata": {},
     "output_type": "execute_result"
    }
   ],
   "source": [
    "vk.mean()"
   ]
  },
  {
   "cell_type": "code",
   "execution_count": 132,
   "id": "ba9f5fae-7170-4127-87a9-72a7b0dec98f",
   "metadata": {},
   "outputs": [
    {
     "data": {
      "text/plain": [
       "135.64383561643837"
      ]
     },
     "execution_count": 132,
     "metadata": {},
     "output_type": "execute_result"
    }
   ],
   "source": [
    "subs.mean()"
   ]
  },
  {
   "cell_type": "markdown",
   "id": "6d97c598-9017-4d5c-b2dd-37e220b414ad",
   "metadata": {},
   "source": [
    "### median()\n",
    "- The median() method in pandas is used to calculate the median of values in a Series. \n",
    "- It returns the middle value of the numeric values when they are sorted in ascending order."
   ]
  },
  {
   "cell_type": "code",
   "execution_count": 133,
   "id": "cf9515d7-840a-4f83-9419-412414d37c85",
   "metadata": {},
   "outputs": [
    {
     "data": {
      "text/plain": [
       "24.0"
      ]
     },
     "execution_count": 133,
     "metadata": {},
     "output_type": "execute_result"
    }
   ],
   "source": [
    "vk.median()"
   ]
  },
  {
   "cell_type": "code",
   "execution_count": 134,
   "id": "f19c07c0-f59e-4bb5-ab3d-aed6067466db",
   "metadata": {},
   "outputs": [
    {
     "data": {
      "text/plain": [
       "123.0"
      ]
     },
     "execution_count": 134,
     "metadata": {},
     "output_type": "execute_result"
    }
   ],
   "source": [
    "subs.median()"
   ]
  },
  {
   "cell_type": "markdown",
   "id": "f3ba69ab-d2fa-43be-bc41-0b1def97a902",
   "metadata": {},
   "source": [
    "### mode()\n",
    "- The mode() method in pandas is used to calculate the mode of values in a Series. \n",
    "- It returns the most frequently occurring value(s) in the dataset."
   ]
  },
  {
   "cell_type": "code",
   "execution_count": 135,
   "id": "af6ca72c-e088-4fd8-91fe-36239520b167",
   "metadata": {},
   "outputs": [
    {
     "data": {
      "text/plain": [
       "0    Akshay Kumar\n",
       "Name: lead, dtype: object"
      ]
     },
     "execution_count": 135,
     "metadata": {},
     "output_type": "execute_result"
    }
   ],
   "source": [
    "movies.mode()"
   ]
  },
  {
   "cell_type": "code",
   "execution_count": 136,
   "id": "26e3b7e9-cdb7-44c8-addf-4971754d1f24",
   "metadata": {},
   "outputs": [
    {
     "data": {
      "text/plain": [
       "0    0\n",
       "Name: runs, dtype: int64"
      ]
     },
     "execution_count": 136,
     "metadata": {},
     "output_type": "execute_result"
    }
   ],
   "source": [
    "vk.mode()"
   ]
  },
  {
   "cell_type": "code",
   "execution_count": 137,
   "id": "9267ddee-0555-4244-9045-3e0f5f581f47",
   "metadata": {},
   "outputs": [
    {
     "data": {
      "text/plain": [
       "0    105\n",
       "Name: Subscribers gained, dtype: int64"
      ]
     },
     "execution_count": 137,
     "metadata": {},
     "output_type": "execute_result"
    }
   ],
   "source": [
    "subs.mode()"
   ]
  },
  {
   "cell_type": "markdown",
   "id": "d1adecdc-bca6-45d4-9266-5fdf8a0894b9",
   "metadata": {},
   "source": [
    "### std()\n",
    "- The std() method in pandas is used to calculate the standard deviation of values in a Series. \n",
    "- Standard deviation is a measure of the amount of variation or dispersion of a set of values.\n",
    "- It provides a measure of how spread out the values are from the mean."
   ]
  },
  {
   "cell_type": "code",
   "execution_count": 138,
   "id": "038d3974-6981-4441-9e19-d9536adf8420",
   "metadata": {},
   "outputs": [
    {
     "data": {
      "text/plain": [
       "26.22980132830278"
      ]
     },
     "execution_count": 138,
     "metadata": {},
     "output_type": "execute_result"
    }
   ],
   "source": [
    "vk.std()"
   ]
  },
  {
   "cell_type": "code",
   "execution_count": 139,
   "id": "83d38231-3991-4046-954e-904ee3d44863",
   "metadata": {},
   "outputs": [
    {
     "data": {
      "text/plain": [
       "62.67502303725269"
      ]
     },
     "execution_count": 139,
     "metadata": {},
     "output_type": "execute_result"
    }
   ],
   "source": [
    "subs.std()"
   ]
  },
  {
   "cell_type": "markdown",
   "id": "5e0cc861-ee99-4cb5-b356-6122a360ab64",
   "metadata": {},
   "source": [
    "### var()\n",
    "- The var() method in pandas is used to calculate the variance of values in a Series. \n",
    "- Variance is a measure of the extent to which each number in a set differs from the mean.\n",
    "- The var() method is widely used in statistics to measure how much individual data points in a dataset differ from the mean."
   ]
  },
  {
   "cell_type": "code",
   "execution_count": 140,
   "id": "4e8d21a9-a3bf-4719-b4e8-8addf1c9bf50",
   "metadata": {},
   "outputs": [
    {
     "data": {
      "text/plain": [
       "688.0024777222344"
      ]
     },
     "execution_count": 140,
     "metadata": {},
     "output_type": "execute_result"
    }
   ],
   "source": [
    "vk.var()"
   ]
  },
  {
   "cell_type": "code",
   "execution_count": 141,
   "id": "915802f0-aa9c-4348-92e0-134e9e6982a8",
   "metadata": {},
   "outputs": [
    {
     "data": {
      "text/plain": [
       "3928.1585127201556"
      ]
     },
     "execution_count": 141,
     "metadata": {},
     "output_type": "execute_result"
    }
   ],
   "source": [
    "subs.var()"
   ]
  },
  {
   "cell_type": "markdown",
   "id": "ce641d1f-b7fb-4026-9200-9dea8c652c20",
   "metadata": {},
   "source": [
    "### min() & max()\n",
    "The min() and max() methods in pandas are used to find the minimum and maximum values, respectively."
   ]
  },
  {
   "cell_type": "code",
   "execution_count": 142,
   "id": "72a7b032-6fd9-4e58-a4d3-156a62422581",
   "metadata": {},
   "outputs": [
    {
     "data": {
      "text/plain": [
       "0"
      ]
     },
     "execution_count": 142,
     "metadata": {},
     "output_type": "execute_result"
    }
   ],
   "source": [
    "vk.min()"
   ]
  },
  {
   "cell_type": "code",
   "execution_count": 143,
   "id": "b753f18d-1319-4cbb-a72e-cf0b10b78266",
   "metadata": {},
   "outputs": [
    {
     "data": {
      "text/plain": [
       "113"
      ]
     },
     "execution_count": 143,
     "metadata": {},
     "output_type": "execute_result"
    }
   ],
   "source": [
    "vk.max()"
   ]
  },
  {
   "cell_type": "code",
   "execution_count": 144,
   "id": "13fcbcdd-5dc2-441b-a90f-2946d47abe71",
   "metadata": {},
   "outputs": [
    {
     "data": {
      "text/plain": [
       "33"
      ]
     },
     "execution_count": 144,
     "metadata": {},
     "output_type": "execute_result"
    }
   ],
   "source": [
    "subs.min()"
   ]
  },
  {
   "cell_type": "code",
   "execution_count": 145,
   "id": "1464eb16-f60e-476c-9c36-e3bb43bdd858",
   "metadata": {},
   "outputs": [
    {
     "data": {
      "text/plain": [
       "396"
      ]
     },
     "execution_count": 145,
     "metadata": {},
     "output_type": "execute_result"
    }
   ],
   "source": [
    "subs.max()"
   ]
  },
  {
   "cell_type": "code",
   "execution_count": 146,
   "id": "30c657d8-92f2-4c6e-a3f0-768e0130f0ea",
   "metadata": {},
   "outputs": [
    {
     "data": {
      "text/plain": [
       "'Aadar Jain'"
      ]
     },
     "execution_count": 146,
     "metadata": {},
     "output_type": "execute_result"
    }
   ],
   "source": [
    "movies.min()"
   ]
  },
  {
   "cell_type": "code",
   "execution_count": 147,
   "id": "569df782-863f-47d9-b484-3385e53c353f",
   "metadata": {},
   "outputs": [
    {
     "data": {
      "text/plain": [
       "'Zulfi Sayed'"
      ]
     },
     "execution_count": 147,
     "metadata": {},
     "output_type": "execute_result"
    }
   ],
   "source": [
    "movies.max()"
   ]
  },
  {
   "cell_type": "markdown",
   "id": "073861df-3aa6-4343-992d-8e22f569031d",
   "metadata": {},
   "source": [
    "### describe()\n",
    "- The describe() method in pandas is a powerful and convenient function to generate descriptive statistics of a Series. \n",
    "- It provides various summary statistics, including measures of central tendency, dispersion, and shape of the distribution."
   ]
  },
  {
   "cell_type": "code",
   "execution_count": 148,
   "id": "48b44611-fc27-4af0-bf82-f9bf949f65fa",
   "metadata": {},
   "outputs": [
    {
     "data": {
      "text/plain": [
       "count    215.000000\n",
       "mean      30.855814\n",
       "std       26.229801\n",
       "min        0.000000\n",
       "25%        9.000000\n",
       "50%       24.000000\n",
       "75%       48.000000\n",
       "max      113.000000\n",
       "Name: runs, dtype: float64"
      ]
     },
     "execution_count": 148,
     "metadata": {},
     "output_type": "execute_result"
    }
   ],
   "source": [
    "vk.describe()"
   ]
  },
  {
   "cell_type": "code",
   "execution_count": 149,
   "id": "aba8323e-77c5-4d9d-b8d9-a5b9fd69c5ff",
   "metadata": {},
   "outputs": [
    {
     "data": {
      "text/plain": [
       "count    365.000000\n",
       "mean     135.643836\n",
       "std       62.675023\n",
       "min       33.000000\n",
       "25%       88.000000\n",
       "50%      123.000000\n",
       "75%      177.000000\n",
       "max      396.000000\n",
       "Name: Subscribers gained, dtype: float64"
      ]
     },
     "execution_count": 149,
     "metadata": {},
     "output_type": "execute_result"
    }
   ],
   "source": [
    "subs.describe()"
   ]
  },
  {
   "cell_type": "markdown",
   "id": "dc319423-5425-46c8-87a8-7904d87cc169",
   "metadata": {},
   "source": [
    "## Series Indexing\n",
    "- Series indexing refers to accessing specific elements or subsets of data from a Pandas Series object. \n",
    "- It can be done using various methods, such as integer indexing, label-based indexing, and fancy indexing.ndexing:"
   ]
  },
  {
   "cell_type": "code",
   "execution_count": 150,
   "id": "c615a94a-fb16-4f35-a64b-d5510e44145c",
   "metadata": {},
   "outputs": [
    {
     "data": {
      "text/plain": [
       "0     10\n",
       "1     54\n",
       "2     27\n",
       "3     41\n",
       "4     12\n",
       "5      4\n",
       "6     66\n",
       "7     78\n",
       "8     56\n",
       "9     71\n",
       "10    49\n",
       "11    51\n",
       "12    96\n",
       "dtype: int64"
      ]
     },
     "execution_count": 150,
     "metadata": {},
     "output_type": "execute_result"
    }
   ],
   "source": [
    "S = pd.Series([10,54,27,41,12,4,66,78,56,71,49,51,96])\n",
    "S"
   ]
  },
  {
   "cell_type": "markdown",
   "id": "fb8d2239-6876-48ad-982e-9913315b377c",
   "metadata": {},
   "source": [
    "### integer indexing\n",
    "- Integer indexing refers to accessing elements of a Series by their position in the Series.\n",
    "- For example, if you have a Series named 'data' with values [1, 2, 3, 4, 5], you can access the first element by using data[0], the second element by using data[1], and so on."
   ]
  },
  {
   "cell_type": "code",
   "execution_count": 151,
   "id": "a8e7a868-af5f-421c-8375-831060d9b01a",
   "metadata": {},
   "outputs": [
    {
     "data": {
      "text/plain": [
       "10"
      ]
     },
     "execution_count": 151,
     "metadata": {},
     "output_type": "execute_result"
    }
   ],
   "source": [
    "# integer indexing\n",
    "S[0]"
   ]
  },
  {
   "cell_type": "code",
   "execution_count": 152,
   "id": "cfe2847d-2867-4e3d-a442-c95a0f88e0b6",
   "metadata": {},
   "outputs": [
    {
     "data": {
      "text/plain": [
       "4"
      ]
     },
     "execution_count": 152,
     "metadata": {},
     "output_type": "execute_result"
    }
   ],
   "source": [
    "S[5]"
   ]
  },
  {
   "cell_type": "code",
   "execution_count": 153,
   "id": "331c7b02-9d07-4165-a6df-c0593927de29",
   "metadata": {},
   "outputs": [],
   "source": [
    "# it does work with negative indexing\n",
    "# S[-1]"
   ]
  },
  {
   "cell_type": "code",
   "execution_count": 154,
   "id": "9a7f44e5-5f6b-458c-89c5-8871749f3313",
   "metadata": {},
   "outputs": [
    {
     "data": {
      "text/plain": [
       "48"
      ]
     },
     "execution_count": 154,
     "metadata": {},
     "output_type": "execute_result"
    }
   ],
   "source": [
    "subs[0]"
   ]
  },
  {
   "cell_type": "code",
   "execution_count": 155,
   "id": "2f46105d-d7d6-4c9c-b336-332a7f020071",
   "metadata": {},
   "outputs": [],
   "source": [
    "# subs[-1]"
   ]
  },
  {
   "cell_type": "code",
   "execution_count": 156,
   "id": "5ed1ea33-3c55-4924-8d18-c6cde278e7ba",
   "metadata": {},
   "outputs": [
    {
     "data": {
      "text/plain": [
       "movie\n",
       "Uri: The Surgical Strike                   Vicky Kaushal\n",
       "Battalion 609                                Vicky Ahuja\n",
       "The Accidental Prime Minister (film)         Anupam Kher\n",
       "Why Cheat India                            Emraan Hashmi\n",
       "Evening Shadows                         Mona Ambegaonkar\n",
       "                                              ...       \n",
       "Hum Tumhare Hain Sanam                    Shah Rukh Khan\n",
       "Aankhen (2002 film)                     Amitabh Bachchan\n",
       "Saathiya (film)                             Vivek Oberoi\n",
       "Company (film)                                Ajay Devgn\n",
       "Awara Paagal Deewana                        Akshay Kumar\n",
       "Name: lead, Length: 1500, dtype: object"
      ]
     },
     "execution_count": 156,
     "metadata": {},
     "output_type": "execute_result"
    }
   ],
   "source": [
    "movies"
   ]
  },
  {
   "cell_type": "code",
   "execution_count": 157,
   "id": "d713f883-f823-44fa-aefc-5fb82bb96f22",
   "metadata": {},
   "outputs": [],
   "source": [
    "# movies[-1]"
   ]
  },
  {
   "cell_type": "markdown",
   "id": "83509bab-b637-4d70-8757-85d6398e9b63",
   "metadata": {},
   "source": [
    "### Label-based indexing\n",
    "- Label-based indexing allows you to access elements by their labels or names. \n",
    "- To use label-based indexing, you can specify the label or name within square brackets.\n",
    "- For example, if you have a Series named 'data' with labels ['a', 'b', 'c', 'd', 'e'], you can access the element with the label 'b' by using data['b']."
   ]
  },
  {
   "cell_type": "code",
   "execution_count": 158,
   "id": "54b8489c-10f0-44a0-849a-826b78fa5e38",
   "metadata": {},
   "outputs": [
    {
     "data": {
      "text/plain": [
       "'Vicky Ahuja'"
      ]
     },
     "execution_count": 158,
     "metadata": {},
     "output_type": "execute_result"
    }
   ],
   "source": [
    "# Label-based indexing\n",
    "movies['Battalion 609']"
   ]
  },
  {
   "cell_type": "code",
   "execution_count": 159,
   "id": "9bfed577-d4eb-4a38-92d1-a111a7173be0",
   "metadata": {},
   "outputs": [
    {
     "data": {
      "text/plain": [
       "'Akshay Kumar'"
      ]
     },
     "execution_count": 159,
     "metadata": {},
     "output_type": "execute_result"
    }
   ],
   "source": [
    "movies['Awara Paagal Deewana']"
   ]
  },
  {
   "cell_type": "markdown",
   "id": "ff7e402e-2ff7-4a1a-a529-fbf9d40c273e",
   "metadata": {},
   "source": [
    "### Fancy indexing\n",
    "- Fancy indexing enables you to select multiple elements from a Series by specifying their indices in a list.\n",
    "- For example, if you have a Series named 'data' with values [1, 2, 3, 4, 5], you can select the first and third elements by using data[[0, 2]]."
   ]
  },
  {
   "cell_type": "code",
   "execution_count": 160,
   "id": "93a0f151-2eda-48a9-905f-db359f5a33f8",
   "metadata": {},
   "outputs": [
    {
     "data": {
      "text/plain": [
       "match_no\n",
       "1     1\n",
       "2    23\n",
       "5     1\n",
       "6     9\n",
       "8     0\n",
       "Name: runs, dtype: int64"
      ]
     },
     "execution_count": 160,
     "metadata": {},
     "output_type": "execute_result"
    }
   ],
   "source": [
    "# Fancy indexing\n",
    "vk[[1,2,5,6,8]]"
   ]
  },
  {
   "cell_type": "code",
   "execution_count": 161,
   "id": "971c5897-3f2b-4b0a-98be-f55d009c9500",
   "metadata": {},
   "outputs": [
    {
     "data": {
      "text/plain": [
       "1       57\n",
       "100    100\n",
       "200    139\n",
       "300    178\n",
       "Name: Subscribers gained, dtype: int64"
      ]
     },
     "execution_count": 161,
     "metadata": {},
     "output_type": "execute_result"
    }
   ],
   "source": [
    "subs[[1,100,200,300]]"
   ]
  },
  {
   "cell_type": "markdown",
   "id": "dca39e84-4044-4029-8d92-4f714d4165a0",
   "metadata": {},
   "source": [
    "## Series Slicing\n",
    "- Series slicing is a technique used to extract a specific subset of data from a Pandas Series object. \n",
    "- To slice a Series, you can use the square bracket notation [ ]. The syntax for slicing a Series is:\n",
    "- series[start : end : step] where:\n",
    "- start: The starting index of the slice.\n",
    "- end: The ending index of the slice.\n",
    "- step: The step size for the slice.\n",
    "\n",
    "For example, to slice the first 5 rows of a Series named 'data', you can use the following code:\n",
    "\n",
    "data[:5]\n",
    "\n",
    "This will return a new Series containing the first 5 rows of 'data'."
   ]
  },
  {
   "cell_type": "code",
   "execution_count": 162,
   "id": "759853a4-7d2b-4da6-bf1e-7cc13c267e93",
   "metadata": {},
   "outputs": [
    {
     "data": {
      "text/plain": [
       "match_no\n",
       "1     1\n",
       "2    23\n",
       "3    13\n",
       "4    12\n",
       "5     1\n",
       "Name: runs, dtype: int64"
      ]
     },
     "execution_count": 162,
     "metadata": {},
     "output_type": "execute_result"
    }
   ],
   "source": [
    "# starting 5 matches of vk\n",
    "vk[:5]"
   ]
  },
  {
   "cell_type": "code",
   "execution_count": 163,
   "id": "3807780b-e8a2-4c67-b1ad-63c97dc9d534",
   "metadata": {},
   "outputs": [
    {
     "data": {
      "text/plain": [
       "match_no\n",
       "211     0\n",
       "212    20\n",
       "213    73\n",
       "214    25\n",
       "215     7\n",
       "Name: runs, dtype: int64"
      ]
     },
     "execution_count": 163,
     "metadata": {},
     "output_type": "execute_result"
    }
   ],
   "source": [
    "# LAst 5 maches of vk\n",
    "vk[-5:]"
   ]
  },
  {
   "cell_type": "code",
   "execution_count": 164,
   "id": "261e668d-e33d-444a-846c-cb5a01b52fb1",
   "metadata": {},
   "outputs": [
    {
     "data": {
      "text/plain": [
       "0       48\n",
       "2       40\n",
       "4       44\n",
       "6       33\n",
       "8       44\n",
       "      ... \n",
       "356    156\n",
       "358    210\n",
       "360    231\n",
       "362    155\n",
       "364    172\n",
       "Name: Subscribers gained, Length: 183, dtype: int64"
      ]
     },
     "execution_count": 164,
     "metadata": {},
     "output_type": "execute_result"
    }
   ],
   "source": [
    "subs[::2]"
   ]
  },
  {
   "cell_type": "markdown",
   "id": "192f88bb-9428-48b1-afe0-6c8a333ad1db",
   "metadata": {},
   "source": [
    "## Editing Series"
   ]
  },
  {
   "cell_type": "code",
   "execution_count": 165,
   "id": "5b2a13ca-15fc-4fbd-b892-277b5de2c644",
   "metadata": {},
   "outputs": [
    {
     "data": {
      "text/plain": [
       "English      85\n",
       "Urdu         68\n",
       "Physics      79\n",
       "Maths        99\n",
       "Chemistry    89\n",
       "Name: Matric Class Marks, dtype: int64"
      ]
     },
     "execution_count": 165,
     "metadata": {},
     "output_type": "execute_result"
    }
   ],
   "source": [
    "marks_series"
   ]
  },
  {
   "cell_type": "code",
   "execution_count": 166,
   "id": "a1002e2c-47a5-491c-816c-e0b977d7e00c",
   "metadata": {},
   "outputs": [
    {
     "data": {
      "text/plain": [
       "English      85\n",
       "Urdu         90\n",
       "Physics      79\n",
       "Maths        99\n",
       "Chemistry    89\n",
       "Name: Matric Class Marks, dtype: int64"
      ]
     },
     "execution_count": 166,
     "metadata": {},
     "output_type": "execute_result"
    }
   ],
   "source": [
    "marks_series['Urdu'] = 90\n",
    "marks_series"
   ]
  },
  {
   "cell_type": "code",
   "execution_count": 167,
   "id": "a989a0ec-f607-4ff0-83e0-707fa42209c9",
   "metadata": {},
   "outputs": [
    {
     "data": {
      "text/plain": [
       "English      85\n",
       "Urdu         90\n",
       "Physics      79\n",
       "Maths        99\n",
       "Chemistry    89\n",
       "Biology      79\n",
       "Name: Matric Class Marks, dtype: int64"
      ]
     },
     "execution_count": 167,
     "metadata": {},
     "output_type": "execute_result"
    }
   ],
   "source": [
    "# what if an index does not exist\n",
    "marks_series['Biology'] = 79\n",
    "marks_series"
   ]
  },
  {
   "cell_type": "code",
   "execution_count": 168,
   "id": "7bd793c7-de4f-461e-8297-deb2ffaf7ef0",
   "metadata": {},
   "outputs": [
    {
     "data": {
      "text/plain": [
       "0    10\n",
       "1    68\n",
       "2    97\n",
       "3    24\n",
       "4     8\n",
       "5    20\n",
       "6    82\n",
       "dtype: int64"
      ]
     },
     "execution_count": 168,
     "metadata": {},
     "output_type": "execute_result"
    }
   ],
   "source": [
    "runs = pd.Series([10,68,97,24,8,20,82])\n",
    "runs"
   ]
  },
  {
   "cell_type": "code",
   "execution_count": 169,
   "id": "0757231f-d713-45f6-90f6-93f85ec054bd",
   "metadata": {},
   "outputs": [
    {
     "data": {
      "text/plain": [
       "0    10\n",
       "1    20\n",
       "2    80\n",
       "3    90\n",
       "4     8\n",
       "5    20\n",
       "6    82\n",
       "dtype: int64"
      ]
     },
     "execution_count": 169,
     "metadata": {},
     "output_type": "execute_result"
    }
   ],
   "source": [
    "runs[1:4] = [20,80,90]\n",
    "runs"
   ]
  },
  {
   "cell_type": "code",
   "execution_count": 170,
   "id": "1d60a0e9-ffc9-409b-a0e5-a59d9248f909",
   "metadata": {},
   "outputs": [
    {
     "data": {
      "text/plain": [
       "0     10\n",
       "1     90\n",
       "2     80\n",
       "3     90\n",
       "4      8\n",
       "5     88\n",
       "6    100\n",
       "dtype: int64"
      ]
     },
     "execution_count": 170,
     "metadata": {},
     "output_type": "execute_result"
    }
   ],
   "source": [
    "# fancy Slicing\n",
    "runs[[6,5,1]] = [100,88,90]\n",
    "runs"
   ]
  },
  {
   "cell_type": "code",
   "execution_count": 171,
   "id": "6a44a616-5c58-4a1d-88c0-421c0f9c6ccb",
   "metadata": {},
   "outputs": [
    {
     "data": {
      "text/plain": [
       "movie\n",
       "Uri: The Surgical Strike                   Vicky Kaushal\n",
       "Battalion 609                                Vicky Ahuja\n",
       "The Accidental Prime Minister (film)         Anupam Kher\n",
       "Why Cheat India                            Emraan Hashmi\n",
       "Evening Shadows                         Mona Ambegaonkar\n",
       "                                              ...       \n",
       "Hum Tumhare Hain Sanam                    Shah Rukh Khan\n",
       "Aankhen (2002 film)                     Amitabh Bachchan\n",
       "Saathiya (film)                             Vivek Oberoi\n",
       "Company (film)                                Ajay Devgn\n",
       "Awara Paagal Deewana                        Akshay Kumar\n",
       "Name: lead, Length: 1500, dtype: object"
      ]
     },
     "execution_count": 171,
     "metadata": {},
     "output_type": "execute_result"
    }
   ],
   "source": [
    "# using index labled\n",
    "movies"
   ]
  },
  {
   "cell_type": "code",
   "execution_count": 172,
   "id": "cdec7d1b-0f7f-43bf-9763-0145add26715",
   "metadata": {},
   "outputs": [
    {
     "data": {
      "text/plain": [
       "movie\n",
       "Uri: The Surgical Strike                   Vicky Kaushal\n",
       "Battalion 609                                Vicky Ahuja\n",
       "The Accidental Prime Minister (film)         Anupam Kher\n",
       "Why Cheat India                            Emraan Hashmi\n",
       "Evening Shadows                         Mona Ambegaonkar\n",
       "                                              ...       \n",
       "Hum Tumhare Hain Sanam                    Shah Rukh Khan\n",
       "Aankhen (2002 film)                         Ajay Dev Gun\n",
       "Saathiya (film)                             Vivek Oberoi\n",
       "Company (film)                                Ajay Devgn\n",
       "Awara Paagal Deewana                        Akshay Kumar\n",
       "Name: lead, Length: 1500, dtype: object"
      ]
     },
     "execution_count": 172,
     "metadata": {},
     "output_type": "execute_result"
    }
   ],
   "source": [
    "movies['Aankhen (2002 film)'] = \"Ajay Dev Gun\"\n",
    "movies"
   ]
  },
  {
   "cell_type": "markdown",
   "id": "7db7dc86-e291-4e9b-b29c-7902c8a84c8a",
   "metadata": {},
   "source": [
    "## Series with Python Functionalities"
   ]
  },
  {
   "cell_type": "code",
   "execution_count": 173,
   "id": "16729924-948d-47a0-85da-a66f20218f9b",
   "metadata": {},
   "outputs": [
    {
     "data": {
      "text/plain": [
       "365"
      ]
     },
     "execution_count": 173,
     "metadata": {},
     "output_type": "execute_result"
    }
   ],
   "source": [
    "# len() ---> find length of a Series\n",
    "len(subs)"
   ]
  },
  {
   "cell_type": "code",
   "execution_count": 174,
   "id": "f95d2951-6339-460d-b036-bf6fb5b1b566",
   "metadata": {},
   "outputs": [
    {
     "data": {
      "text/plain": [
       "215"
      ]
     },
     "execution_count": 174,
     "metadata": {},
     "output_type": "execute_result"
    }
   ],
   "source": [
    "len(vk)"
   ]
  },
  {
   "cell_type": "code",
   "execution_count": 175,
   "id": "9d28b538-8ad6-48a9-85fc-15866f944e89",
   "metadata": {},
   "outputs": [
    {
     "data": {
      "text/plain": [
       "1500"
      ]
     },
     "execution_count": 175,
     "metadata": {},
     "output_type": "execute_result"
    }
   ],
   "source": [
    "len(movies)"
   ]
  },
  {
   "cell_type": "code",
   "execution_count": 176,
   "id": "f98eca63-4388-46b3-bf6a-0bbc74eba81d",
   "metadata": {},
   "outputs": [
    {
     "name": "stdout",
     "output_type": "stream",
     "text": [
      "<class 'pandas.core.series.Series'>\n",
      "<class 'pandas.core.series.Series'>\n",
      "<class 'pandas.core.series.Series'>\n"
     ]
    }
   ],
   "source": [
    "# type() ---> used to check type of a Series\n",
    "print(type(subs))\n",
    "print(type(vk))\n",
    "print(type(movies))"
   ]
  },
  {
   "cell_type": "code",
   "execution_count": 177,
   "id": "1bbcb7bc-6d14-42c0-8964-280de3dbc6a8",
   "metadata": {},
   "outputs": [
    {
     "name": "stdout",
     "output_type": "stream",
     "text": [
      "['T', '_AXIS_LEN', '_AXIS_ORDERS', '_AXIS_TO_AXIS_NUMBER', '_HANDLED_TYPES', '__abs__', '__add__', '__and__', '__annotations__', '__array__', '__array_priority__', '__array_ufunc__', '__bool__', '__class__', '__column_consortium_standard__', '__contains__', '__copy__', '__deepcopy__', '__delattr__', '__delitem__', '__dict__', '__dir__', '__divmod__', '__doc__', '__eq__', '__finalize__', '__float__', '__floordiv__', '__format__', '__ge__', '__getattr__', '__getattribute__', '__getitem__', '__getstate__', '__gt__', '__hash__', '__iadd__', '__iand__', '__ifloordiv__', '__imod__', '__imul__', '__init__', '__init_subclass__', '__int__', '__invert__', '__ior__', '__ipow__', '__isub__', '__iter__', '__itruediv__', '__ixor__', '__le__', '__len__', '__lt__', '__matmul__', '__mod__', '__module__', '__mul__', '__ne__', '__neg__', '__new__', '__nonzero__', '__or__', '__pandas_priority__', '__pos__', '__pow__', '__radd__', '__rand__', '__rdivmod__', '__reduce__', '__reduce_ex__', '__repr__', '__rfloordiv__', '__rmatmul__', '__rmod__', '__rmul__', '__ror__', '__round__', '__rpow__', '__rsub__', '__rtruediv__', '__rxor__', '__setattr__', '__setitem__', '__setstate__', '__sizeof__', '__str__', '__sub__', '__subclasshook__', '__truediv__', '__weakref__', '__xor__', '_accessors', '_accum_func', '_agg_examples_doc', '_agg_see_also_doc', '_align_for_op', '_align_frame', '_align_series', '_append', '_arith_method', '_as_manager', '_attrs', '_binop', '_cacher', '_can_hold_na', '_check_inplace_and_allows_duplicate_labels', '_check_is_chained_assignment_possible', '_check_label_or_level_ambiguity', '_check_setitem_copy', '_clear_item_cache', '_clip_with_one_bound', '_clip_with_scalar', '_cmp_method', '_consolidate', '_consolidate_inplace', '_construct_axes_dict', '_construct_result', '_constructor', '_constructor_expanddim', '_constructor_expanddim_from_mgr', '_constructor_from_mgr', '_data', '_deprecate_downcast', '_dir_additions', '_dir_deletions', '_drop_axis', '_drop_labels_or_levels', '_duplicated', '_find_valid_index', '_flags', '_flex_method', '_from_mgr', '_get_axis', '_get_axis_name', '_get_axis_number', '_get_axis_resolvers', '_get_block_manager_axis', '_get_bool_data', '_get_cacher', '_get_cleaned_column_resolvers', '_get_index_resolvers', '_get_label_or_level_values', '_get_numeric_data', '_get_rows_with_mask', '_get_value', '_get_values_tuple', '_get_with', '_getitem_slice', '_gotitem', '_hidden_attrs', '_indexed_same', '_info_axis', '_info_axis_name', '_info_axis_number', '_init_dict', '_init_mgr', '_inplace_method', '_internal_names', '_internal_names_set', '_is_cached', '_is_copy', '_is_label_or_level_reference', '_is_label_reference', '_is_level_reference', '_is_mixed_type', '_is_view', '_is_view_after_cow_rules', '_item_cache', '_ixs', '_logical_func', '_logical_method', '_map_values', '_maybe_update_cacher', '_memory_usage', '_metadata', '_mgr', '_min_count_stat_function', '_name', '_needs_reindex_multi', '_pad_or_backfill', '_protect_consolidate', '_reduce', '_references', '_reindex_axes', '_reindex_indexer', '_reindex_multi', '_reindex_with_indexers', '_rename', '_replace_single', '_repr_data_resource_', '_repr_latex_', '_reset_cache', '_reset_cacher', '_set_as_cached', '_set_axis', '_set_axis_name', '_set_axis_nocheck', '_set_is_copy', '_set_labels', '_set_name', '_set_value', '_set_values', '_set_with', '_set_with_engine', '_shift_with_freq', '_slice', '_stat_function', '_stat_function_ddof', '_take_with_is_copy', '_to_latex_via_styler', '_typ', '_update_inplace', '_validate_dtype', '_values', '_where', 'abs', 'add', 'add_prefix', 'add_suffix', 'agg', 'aggregate', 'align', 'all', 'any', 'apply', 'argmax', 'argmin', 'argsort', 'array', 'asfreq', 'asof', 'astype', 'at', 'at_time', 'attrs', 'autocorr', 'axes', 'backfill', 'between', 'between_time', 'bfill', 'bool', 'case_when', 'clip', 'combine', 'combine_first', 'compare', 'convert_dtypes', 'copy', 'corr', 'count', 'cov', 'cummax', 'cummin', 'cumprod', 'cumsum', 'describe', 'diff', 'div', 'divide', 'divmod', 'dot', 'drop', 'drop_duplicates', 'droplevel', 'dropna', 'dtype', 'dtypes', 'duplicated', 'empty', 'eq', 'equals', 'ewm', 'expanding', 'explode', 'factorize', 'ffill', 'fillna', 'filter', 'first', 'first_valid_index', 'flags', 'floordiv', 'ge', 'get', 'groupby', 'gt', 'hasnans', 'head', 'hist', 'iat', 'idxmax', 'idxmin', 'iloc', 'index', 'infer_objects', 'info', 'interpolate', 'is_monotonic_decreasing', 'is_monotonic_increasing', 'is_unique', 'isin', 'isna', 'isnull', 'item', 'items', 'keys', 'kurt', 'kurtosis', 'last', 'last_valid_index', 'le', 'list', 'loc', 'lt', 'map', 'mask', 'max', 'mean', 'median', 'memory_usage', 'min', 'mod', 'mode', 'mul', 'multiply', 'name', 'nbytes', 'ndim', 'ne', 'nlargest', 'notna', 'notnull', 'nsmallest', 'nunique', 'pad', 'pct_change', 'pipe', 'plot', 'pop', 'pow', 'prod', 'product', 'quantile', 'radd', 'rank', 'ravel', 'rdiv', 'rdivmod', 'reindex', 'reindex_like', 'rename', 'rename_axis', 'reorder_levels', 'repeat', 'replace', 'resample', 'reset_index', 'rfloordiv', 'rmod', 'rmul', 'rolling', 'round', 'rpow', 'rsub', 'rtruediv', 'sample', 'searchsorted', 'sem', 'set_axis', 'set_flags', 'shape', 'shift', 'size', 'skew', 'sort_index', 'sort_values', 'squeeze', 'std', 'struct', 'sub', 'subtract', 'sum', 'swapaxes', 'swaplevel', 'tail', 'take', 'to_clipboard', 'to_csv', 'to_dict', 'to_excel', 'to_frame', 'to_hdf', 'to_json', 'to_latex', 'to_list', 'to_markdown', 'to_numpy', 'to_period', 'to_pickle', 'to_sql', 'to_string', 'to_timestamp', 'to_xarray', 'transform', 'transpose', 'truediv', 'truncate', 'tz_convert', 'tz_localize', 'unique', 'unstack', 'update', 'value_counts', 'values', 'var', 'view', 'where', 'xs']\n"
     ]
    }
   ],
   "source": [
    "# dir() ---> is used to get a list of all the attributes and methods of an object\n",
    "print(dir(subs))"
   ]
  },
  {
   "cell_type": "code",
   "execution_count": 178,
   "id": "dd167cad-ff90-4c33-bb27-91333785266e",
   "metadata": {},
   "outputs": [
    {
     "name": "stdout",
     "output_type": "stream",
     "text": [
      "[33, 33, 35, 37, 39, 40, 40, 40, 40, 42, 42, 43, 44, 44, 44, 45, 46, 46, 48, 49, 49, 49, 49, 50, 50, 50, 51, 54, 56, 56, 56, 56, 57, 61, 62, 64, 65, 65, 66, 66, 66, 66, 67, 68, 70, 70, 70, 71, 71, 72, 72, 72, 72, 72, 73, 74, 74, 75, 76, 76, 76, 76, 77, 77, 78, 78, 78, 79, 79, 80, 80, 80, 81, 81, 82, 82, 83, 83, 83, 84, 84, 84, 85, 86, 86, 86, 87, 87, 87, 87, 88, 88, 88, 88, 88, 89, 89, 89, 90, 90, 90, 90, 91, 92, 92, 92, 93, 93, 93, 93, 95, 95, 96, 96, 96, 96, 97, 97, 98, 98, 99, 99, 100, 100, 100, 101, 101, 101, 102, 102, 103, 103, 104, 104, 104, 105, 105, 105, 105, 105, 105, 105, 105, 105, 108, 108, 108, 108, 108, 108, 109, 109, 110, 110, 110, 111, 111, 112, 113, 113, 113, 114, 114, 114, 114, 115, 115, 115, 115, 117, 117, 117, 118, 118, 119, 119, 119, 119, 120, 122, 123, 123, 123, 123, 123, 124, 125, 126, 127, 128, 128, 129, 130, 131, 131, 132, 132, 134, 134, 134, 135, 135, 136, 136, 136, 137, 138, 138, 138, 139, 140, 144, 145, 146, 146, 146, 146, 147, 149, 150, 150, 150, 150, 151, 152, 152, 152, 153, 153, 153, 154, 154, 154, 155, 155, 156, 156, 156, 156, 157, 157, 157, 157, 158, 158, 159, 159, 160, 160, 160, 160, 162, 164, 166, 167, 167, 168, 170, 170, 170, 170, 171, 172, 172, 173, 173, 173, 174, 174, 175, 175, 176, 176, 177, 178, 179, 179, 180, 180, 180, 182, 183, 183, 183, 184, 184, 184, 185, 185, 185, 185, 186, 186, 186, 188, 189, 190, 190, 192, 192, 192, 196, 196, 196, 197, 197, 202, 202, 202, 203, 204, 206, 207, 209, 210, 210, 211, 212, 213, 214, 216, 219, 220, 221, 221, 222, 222, 224, 225, 225, 226, 227, 228, 229, 230, 231, 233, 236, 236, 237, 241, 243, 244, 245, 247, 249, 254, 254, 258, 259, 259, 261, 261, 265, 267, 268, 269, 276, 276, 290, 295, 301, 306, 312, 396]\n",
      "[0, 0, 0, 0, 0, 0, 0, 0, 0, 1, 1, 1, 1, 1, 1, 1, 1, 2, 2, 3, 3, 3, 3, 3, 4, 4, 4, 4, 4, 5, 5, 5, 5, 5, 6, 6, 6, 6, 7, 7, 7, 7, 8, 8, 8, 8, 8, 8, 9, 9, 9, 9, 9, 9, 9, 10, 10, 10, 11, 11, 11, 12, 12, 12, 12, 12, 12, 12, 12, 13, 13, 13, 13, 14, 14, 14, 14, 15, 15, 16, 16, 16, 16, 16, 17, 17, 18, 18, 18, 18, 19, 19, 19, 20, 20, 20, 20, 21, 21, 21, 22, 22, 23, 23, 23, 23, 24, 24, 24, 25, 25, 25, 25, 25, 27, 27, 27, 28, 29, 30, 30, 30, 31, 31, 31, 32, 32, 32, 33, 33, 33, 33, 34, 34, 34, 35, 35, 35, 35, 35, 35, 36, 37, 38, 38, 38, 38, 39, 39, 39, 41, 41, 41, 42, 42, 43, 43, 44, 45, 46, 48, 48, 48, 48, 49, 50, 50, 51, 51, 51, 52, 53, 54, 54, 55, 56, 56, 57, 57, 57, 58, 58, 58, 58, 62, 62, 64, 65, 67, 67, 67, 68, 70, 70, 71, 72, 72, 73, 73, 73, 75, 75, 79, 80, 82, 84, 90, 92, 93, 99, 100, 100, 108, 109, 113]\n"
     ]
    }
   ],
   "source": [
    "# sorted() --->  is used to sort a sequence of elements in ascending order\n",
    "print(sorted(subs))\n",
    "print(sorted(vk))"
   ]
  },
  {
   "cell_type": "code",
   "execution_count": 179,
   "id": "ee0cac4d-7993-4af4-9095-3cb822c57e29",
   "metadata": {},
   "outputs": [
    {
     "name": "stdout",
     "output_type": "stream",
     "text": [
      "33\n",
      "0\n",
      "Aadar Jain\n"
     ]
    }
   ],
   "source": [
    "# min() ---> is used to find minimum value in series\n",
    "print(min(subs))\n",
    "print(min(vk))\n",
    "print(min(movies))"
   ]
  },
  {
   "cell_type": "code",
   "execution_count": 180,
   "id": "265c35d2-a455-4d3d-9871-6af07394eea7",
   "metadata": {},
   "outputs": [
    {
     "name": "stdout",
     "output_type": "stream",
     "text": [
      "396\n",
      "113\n",
      "Zulfi Sayed\n"
     ]
    }
   ],
   "source": [
    "# max() ---> is used to find maximum value in Series\n",
    "print(max(subs))\n",
    "print(max(vk))\n",
    "print(max(movies))"
   ]
  },
  {
   "cell_type": "code",
   "execution_count": 181,
   "id": "a82bf05a-6ff6-434b-98fc-2a55012009a8",
   "metadata": {},
   "outputs": [
    {
     "data": {
      "text/plain": [
       "English      85\n",
       "Urdu         90\n",
       "Physics      79\n",
       "Maths        99\n",
       "Chemistry    89\n",
       "Biology      79\n",
       "Name: Matric Class Marks, dtype: int64"
      ]
     },
     "execution_count": 181,
     "metadata": {},
     "output_type": "execute_result"
    }
   ],
   "source": [
    "# type convesions ---> is used to convert data from one data type to another data type\n",
    "marks_series"
   ]
  },
  {
   "cell_type": "code",
   "execution_count": 182,
   "id": "ed11036a-8da5-4f96-821c-a40408a925d7",
   "metadata": {},
   "outputs": [
    {
     "name": "stdout",
     "output_type": "stream",
     "text": [
      "[85, 90, 79, 99, 89, 79]\n"
     ]
    }
   ],
   "source": [
    "# list() ---> convert into list\n",
    "print(list(marks_series))"
   ]
  },
  {
   "cell_type": "code",
   "execution_count": 183,
   "id": "bbe8430e-9b4b-4611-81d7-0e077145e256",
   "metadata": {},
   "outputs": [
    {
     "name": "stdout",
     "output_type": "stream",
     "text": [
      "{'English': 85, 'Urdu': 90, 'Physics': 79, 'Maths': 99, 'Chemistry': 89, 'Biology': 79}\n"
     ]
    }
   ],
   "source": [
    "# dict() ---> convert into dictionary\n",
    "print(dict(marks_series))"
   ]
  },
  {
   "cell_type": "code",
   "execution_count": 184,
   "id": "1cbbbb2e-1da5-4bfb-b7f7-b260cad2d5ba",
   "metadata": {},
   "outputs": [
    {
     "data": {
      "text/plain": [
       "True"
      ]
     },
     "execution_count": 184,
     "metadata": {},
     "output_type": "execute_result"
    }
   ],
   "source": [
    "# membership operators ---> in or not in operators\n",
    "'2 States (2014 film)' in movies"
   ]
  },
  {
   "cell_type": "code",
   "execution_count": 185,
   "id": "950d3299-c42e-4dad-81a0-60905c706d07",
   "metadata": {},
   "outputs": [
    {
     "data": {
      "text/plain": [
       "False"
      ]
     },
     "execution_count": 185,
     "metadata": {},
     "output_type": "execute_result"
    }
   ],
   "source": [
    "'Boss' in movies"
   ]
  },
  {
   "cell_type": "code",
   "execution_count": 186,
   "id": "79c9a051-70bf-4717-a060-8cae85589e88",
   "metadata": {},
   "outputs": [
    {
     "data": {
      "text/plain": [
       "False"
      ]
     },
     "execution_count": 186,
     "metadata": {},
     "output_type": "execute_result"
    }
   ],
   "source": [
    "# by default it will search in the index if you give it to find from values you can specify\n",
    "'Alia Bhatt' in movies"
   ]
  },
  {
   "cell_type": "code",
   "execution_count": 187,
   "id": "d922809e-6dd9-4647-bcce-5f276315947b",
   "metadata": {},
   "outputs": [
    {
     "data": {
      "text/plain": [
       "True"
      ]
     },
     "execution_count": 187,
     "metadata": {},
     "output_type": "execute_result"
    }
   ],
   "source": [
    "# by default it will search in the index if you give it to find from values you can specify\n",
    "'Alia Bhatt' in movies.values"
   ]
  },
  {
   "cell_type": "code",
   "execution_count": 188,
   "id": "f80c3385-7839-4163-8a37-f5832a5ad558",
   "metadata": {},
   "outputs": [
    {
     "name": "stdout",
     "output_type": "stream",
     "text": [
      "1\n",
      "23\n",
      "13\n",
      "12\n",
      "1\n",
      "9\n",
      "34\n",
      "0\n",
      "21\n",
      "3\n",
      "10\n",
      "38\n",
      "3\n",
      "11\n",
      "50\n",
      "2\n",
      "22\n",
      "19\n",
      "16\n",
      "15\n",
      "20\n",
      "38\n",
      "19\n",
      "24\n",
      "7\n",
      "2\n",
      "16\n",
      "17\n",
      "24\n",
      "38\n",
      "34\n",
      "42\n",
      "13\n",
      "58\n",
      "3\n",
      "14\n",
      "37\n",
      "9\n",
      "23\n",
      "12\n",
      "71\n",
      "35\n",
      "30\n",
      "56\n",
      "67\n",
      "27\n",
      "27\n",
      "39\n",
      "15\n",
      "11\n",
      "31\n",
      "70\n",
      "8\n",
      "35\n",
      "8\n",
      "6\n",
      "57\n",
      "22\n",
      "16\n",
      "4\n",
      "16\n",
      "18\n",
      "45\n",
      "9\n",
      "36\n",
      "9\n",
      "3\n",
      "73\n",
      "42\n",
      "24\n",
      "51\n",
      "35\n",
      "58\n",
      "65\n",
      "1\n",
      "11\n",
      "1\n",
      "32\n",
      "25\n",
      "57\n",
      "93\n",
      "99\n",
      "17\n",
      "14\n",
      "56\n",
      "49\n",
      "0\n",
      "31\n",
      "21\n",
      "4\n",
      "0\n",
      "35\n",
      "0\n",
      "4\n",
      "10\n",
      "27\n",
      "67\n",
      "38\n",
      "73\n",
      "13\n",
      "41\n",
      "18\n",
      "51\n",
      "62\n",
      "35\n",
      "1\n",
      "34\n",
      "48\n",
      "32\n",
      "82\n",
      "19\n",
      "44\n",
      "1\n",
      "12\n",
      "12\n",
      "75\n",
      "79\n",
      "33\n",
      "80\n",
      "100\n",
      "14\n",
      "52\n",
      "108\n",
      "20\n",
      "7\n",
      "109\n",
      "75\n",
      "113\n",
      "54\n",
      "0\n",
      "54\n",
      "62\n",
      "28\n",
      "64\n",
      "0\n",
      "10\n",
      "55\n",
      "20\n",
      "6\n",
      "5\n",
      "58\n",
      "31\n",
      "21\n",
      "57\n",
      "92\n",
      "30\n",
      "18\n",
      "68\n",
      "32\n",
      "8\n",
      "39\n",
      "70\n",
      "48\n",
      "12\n",
      "4\n",
      "6\n",
      "46\n",
      "3\n",
      "23\n",
      "84\n",
      "41\n",
      "67\n",
      "8\n",
      "100\n",
      "9\n",
      "13\n",
      "23\n",
      "25\n",
      "16\n",
      "18\n",
      "9\n",
      "7\n",
      "29\n",
      "1\n",
      "72\n",
      "43\n",
      "43\n",
      "90\n",
      "48\n",
      "14\n",
      "33\n",
      "50\n",
      "8\n",
      "6\n",
      "33\n",
      "33\n",
      "5\n",
      "72\n",
      "8\n",
      "12\n",
      "35\n",
      "5\n",
      "25\n",
      "5\n",
      "4\n",
      "25\n",
      "51\n",
      "53\n",
      "39\n",
      "41\n",
      "12\n",
      "5\n",
      "48\n",
      "1\n",
      "12\n",
      "0\n",
      "0\n",
      "9\n",
      "58\n",
      "30\n",
      "0\n",
      "20\n",
      "73\n",
      "25\n",
      "7\n"
     ]
    }
   ],
   "source": [
    "# looping\n",
    "for i in vk.values:\n",
    "    print(i)"
   ]
  },
  {
   "cell_type": "code",
   "execution_count": 189,
   "id": "940e5c78-8d4e-41c3-af6b-916f182bfede",
   "metadata": {},
   "outputs": [
    {
     "data": {
      "text/plain": [
       "English      85\n",
       "Urdu         90\n",
       "Physics      79\n",
       "Maths        99\n",
       "Chemistry    89\n",
       "Biology      79\n",
       "Name: Matric Class Marks, dtype: int64"
      ]
     },
     "execution_count": 189,
     "metadata": {},
     "output_type": "execute_result"
    }
   ],
   "source": [
    "# Arithmetic Operations\n",
    "marks_series"
   ]
  },
  {
   "cell_type": "code",
   "execution_count": 190,
   "id": "21ad3f13-6f8c-4054-b235-5a2c64719910",
   "metadata": {},
   "outputs": [
    {
     "data": {
      "text/plain": [
       "English       95\n",
       "Urdu         100\n",
       "Physics       89\n",
       "Chemistry     99\n",
       "Name: Matric Class Marks, dtype: int64"
      ]
     },
     "execution_count": 190,
     "metadata": {},
     "output_type": "execute_result"
    }
   ],
   "source": [
    "10 + marks_series[['English','Urdu','Physics','Chemistry']]"
   ]
  },
  {
   "cell_type": "code",
   "execution_count": 191,
   "id": "d9c1464c-5cb4-46af-84fc-fc7ca6422da3",
   "metadata": {},
   "outputs": [
    {
     "data": {
      "text/plain": [
       "match_no\n",
       "120    100\n",
       "123    108\n",
       "126    109\n",
       "128    113\n",
       "164    100\n",
       "Name: runs, dtype: int64"
      ]
     },
     "execution_count": 191,
     "metadata": {},
     "output_type": "execute_result"
    }
   ],
   "source": [
    "# relationsal operators\n",
    "vk[vk >= 100]"
   ]
  },
  {
   "cell_type": "markdown",
   "id": "a4c93b5c-12bc-4f35-a1c9-51ca3f7ddf0d",
   "metadata": {},
   "source": [
    "## Boolean Indexing on Series\n",
    "Boolean indexing is a powerful tool that can be used to quickly and easily select subsets of data from a Pandas Series."
   ]
  },
  {
   "cell_type": "code",
   "execution_count": 192,
   "id": "363a7856-66f2-4478-b92a-b79b734ef3e5",
   "metadata": {},
   "outputs": [
    {
     "data": {
      "text/plain": [
       "50"
      ]
     },
     "execution_count": 192,
     "metadata": {},
     "output_type": "execute_result"
    }
   ],
   "source": [
    "# Find no of 50's and 100's scored by kohli\n",
    "vk[vk>=50].size"
   ]
  },
  {
   "cell_type": "code",
   "execution_count": 193,
   "id": "fd2f00b8-4f59-4e33-b86f-24aa6ee4c2fc",
   "metadata": {},
   "outputs": [
    {
     "data": {
      "text/plain": [
       "5"
      ]
     },
     "execution_count": 193,
     "metadata": {},
     "output_type": "execute_result"
    }
   ],
   "source": [
    "## Boolean Indexing on Series\n",
    "vk[vk>=100].size"
   ]
  },
  {
   "cell_type": "code",
   "execution_count": 194,
   "id": "98039527-81a3-4c06-a616-86dc6e866855",
   "metadata": {},
   "outputs": [
    {
     "data": {
      "text/plain": [
       "9"
      ]
     },
     "execution_count": 194,
     "metadata": {},
     "output_type": "execute_result"
    }
   ],
   "source": [
    "# find number of ducks\n",
    "vk[vk == 0].size"
   ]
  },
  {
   "cell_type": "code",
   "execution_count": 195,
   "id": "13b6c903-257b-400d-8aa3-bd3598f3b0b0",
   "metadata": {},
   "outputs": [
    {
     "data": {
      "text/plain": [
       "59"
      ]
     },
     "execution_count": 195,
     "metadata": {},
     "output_type": "execute_result"
    }
   ],
   "source": [
    "# Count number of day when I had more than 200 subs a day\n",
    "subs[subs > 200].size"
   ]
  },
  {
   "cell_type": "code",
   "execution_count": 196,
   "id": "ef5a38e2-11c4-4262-a9bf-6c566844c256",
   "metadata": {},
   "outputs": [
    {
     "data": {
      "text/plain": [
       "lead\n",
       "Akshay Kumar        48\n",
       "Amitabh Bachchan    44\n",
       "Ajay Devgn          38\n",
       "Salman Khan         31\n",
       "Sanjay Dutt         26\n",
       "Shah Rukh Khan      22\n",
       "Emraan Hashmi       21\n",
       "Name: count, dtype: int64"
      ]
     },
     "execution_count": 196,
     "metadata": {},
     "output_type": "execute_result"
    }
   ],
   "source": [
    "# find actors who have done more than 20 movies\n",
    "counts_movies = movies.value_counts()\n",
    "counts_movies[counts_movies>20]"
   ]
  },
  {
   "cell_type": "code",
   "execution_count": 197,
   "id": "ff54c9cd-329f-4ee1-8e52-3d97fac4a545",
   "metadata": {},
   "outputs": [
    {
     "data": {
      "text/plain": [
       "Index(['Akshay Kumar', 'Amitabh Bachchan', 'Ajay Devgn', 'Salman Khan',\n",
       "       'Sanjay Dutt', 'Shah Rukh Khan', 'Emraan Hashmi'],\n",
       "      dtype='object', name='lead')"
      ]
     },
     "execution_count": 197,
     "metadata": {},
     "output_type": "execute_result"
    }
   ],
   "source": [
    "counts_movies[counts_movies>20].index"
   ]
  },
  {
   "cell_type": "markdown",
   "id": "b2711344-031f-4d38-b125-fcff8147aabd",
   "metadata": {},
   "source": [
    "## Plotting Graphs on Series"
   ]
  },
  {
   "cell_type": "code",
   "execution_count": 198,
   "id": "fa8735de-a1c5-4957-a0b7-663d0a7cca83",
   "metadata": {},
   "outputs": [
    {
     "data": {
      "text/plain": [
       "<Axes: >"
      ]
     },
     "execution_count": 198,
     "metadata": {},
     "output_type": "execute_result"
    },
    {
     "data": {
      "image/png": "[encoded data removed]",
      "text/plain": [
       "<Figure size 640x480 with 1 Axes>"
      ]
     },
     "metadata": {},
     "output_type": "display_data"
    }
   ],
   "source": [
    "subs.plot()"
   ]
  },
  {
   "cell_type": "code",
   "execution_count": 199,
   "id": "f80d8dd8-bf61-4b16-86ea-dcb2777921cd",
   "metadata": {},
   "outputs": [
    {
     "data": {
      "text/plain": [
       "<Axes: xlabel='match_no'>"
      ]
     },
     "execution_count": 199,
     "metadata": {},
     "output_type": "execute_result"
    },
    {
     "data": {
      "image/png": "[encoded data removed]",
      "text/plain": [
       "<Figure size 640x480 with 1 Axes>"
      ]
     },
     "metadata": {},
     "output_type": "display_data"
    }
   ],
   "source": [
    "vk.plot()"
   ]
  },
  {
   "cell_type": "code",
   "execution_count": 200,
   "id": "bb98bf21-bcf5-4392-8b89-9e1fe96e7fc7",
   "metadata": {},
   "outputs": [
    {
     "data": {
      "text/plain": [
       "<Axes: ylabel='count'>"
      ]
     },
     "execution_count": 200,
     "metadata": {},
     "output_type": "execute_result"
    },
    {
     "data": {
      "image/png": "[encoded data removed]",
      "text/plain": [
       "<Figure size 640x480 with 1 Axes>"
      ]
     },
     "metadata": {},
     "output_type": "display_data"
    }
   ],
   "source": [
    "movies.value_counts().head(20).plot(kind='pie')"
   ]
  },
  {
   "cell_type": "code",
   "execution_count": 201,
   "id": "1cdb0dbe-4cbe-4b15-b9e0-03624c74ee4c",
   "metadata": {},
   "outputs": [
    {
     "data": {
      "text/plain": [
       "<Axes: >"
      ]
     },
     "execution_count": 201,
     "metadata": {},
     "output_type": "execute_result"
    },
    {
     "data": {
      "image/png": "[encoded data removed]",
      "text/plain": [
       "<Figure size 640x480 with 1 Axes>"
      ]
     },
     "metadata": {},
     "output_type": "display_data"
    }
   ],
   "source": [
    "vk.hist()"
   ]
  },
  {
   "cell_type": "code",
   "execution_count": 202,
   "id": "ca2e5466-2e41-4032-a870-0a964ddf80d1",
   "metadata": {},
   "outputs": [
    {
     "data": {
      "text/plain": [
       "movie\n",
       "Uri: The Surgical Strike                   Vicky Kaushal\n",
       "Battalion 609                                Vicky Ahuja\n",
       "The Accidental Prime Minister (film)         Anupam Kher\n",
       "Why Cheat India                            Emraan Hashmi\n",
       "Evening Shadows                         Mona Ambegaonkar\n",
       "                                              ...       \n",
       "Hum Tumhare Hain Sanam                    Shah Rukh Khan\n",
       "Aankhen (2002 film)                         Ajay Dev Gun\n",
       "Saathiya (film)                             Vivek Oberoi\n",
       "Company (film)                                Ajay Devgn\n",
       "Awara Paagal Deewana                        Akshay Kumar\n",
       "Name: lead, Length: 1500, dtype: object"
      ]
     },
     "execution_count": 202,
     "metadata": {},
     "output_type": "execute_result"
    }
   ],
   "source": [
    "movies"
   ]
  },
  {
   "cell_type": "code",
   "execution_count": 203,
   "id": "c6abb10e-e22f-4085-a295-2dad33624092",
   "metadata": {},
   "outputs": [
    {
     "data": {
      "text/plain": [
       "match_no\n",
       "1       1\n",
       "2      23\n",
       "3      13\n",
       "4      12\n",
       "5       1\n",
       "       ..\n",
       "211     0\n",
       "212    20\n",
       "213    73\n",
       "214    25\n",
       "215     7\n",
       "Name: runs, Length: 215, dtype: int64"
      ]
     },
     "execution_count": 203,
     "metadata": {},
     "output_type": "execute_result"
    }
   ],
   "source": [
    "vk"
   ]
  },
  {
   "cell_type": "code",
   "execution_count": 204,
   "id": "1681d708-eafb-43b6-9c93-12c57d8c6d1a",
   "metadata": {},
   "outputs": [
    {
     "data": {
      "text/plain": [
       "0       48\n",
       "1       57\n",
       "2       40\n",
       "3       43\n",
       "4       44\n",
       "      ... \n",
       "360    231\n",
       "361    226\n",
       "362    155\n",
       "363    144\n",
       "364    172\n",
       "Name: Subscribers gained, Length: 365, dtype: int64"
      ]
     },
     "execution_count": 204,
     "metadata": {},
     "output_type": "execute_result"
    }
   ],
   "source": [
    "subs"
   ]
  },
  {
   "cell_type": "markdown",
   "id": "6e12dd5c-4779-4df4-a334-8f3f192f15ff",
   "metadata": {},
   "source": [
    "## Important Series Methods"
   ]
  },
  {
   "cell_type": "markdown",
   "id": "3a3e82ce-3e43-4154-8caf-455b54b7322f",
   "metadata": {},
   "source": [
    "### astype()\n",
    "- In Pandas, the astype() method is used to cast a Pandas object (such as a Series or DataFrame) to a specified data type. \n",
    "- This method can be particularly useful when you want to convert the data type of elements in a Pandas object to another data type."
   ]
  },
  {
   "cell_type": "code",
   "execution_count": 205,
   "id": "9e4b36d1-6411-48b1-88b0-0cab731fcf53",
   "metadata": {},
   "outputs": [
    {
     "data": {
      "text/plain": [
       "11768"
      ]
     },
     "execution_count": 205,
     "metadata": {},
     "output_type": "execute_result"
    }
   ],
   "source": [
    "import sys\n",
    "sys.getsizeof(vk)"
   ]
  },
  {
   "cell_type": "code",
   "execution_count": 206,
   "id": "e4061e37-efae-453f-8ece-ae95b027f7ee",
   "metadata": {},
   "outputs": [
    {
     "data": {
      "text/plain": [
       "223652"
      ]
     },
     "execution_count": 206,
     "metadata": {},
     "output_type": "execute_result"
    }
   ],
   "source": [
    "sys.getsizeof(movies)"
   ]
  },
  {
   "cell_type": "code",
   "execution_count": 207,
   "id": "6120127f-b774-4418-b22c-65710692007e",
   "metadata": {},
   "outputs": [
    {
     "data": {
      "text/plain": [
       "3084"
      ]
     },
     "execution_count": 207,
     "metadata": {},
     "output_type": "execute_result"
    }
   ],
   "source": [
    "sys.getsizeof(subs)"
   ]
  },
  {
   "cell_type": "code",
   "execution_count": 208,
   "id": "e1db5912-71c8-47aa-8452-645fcac287b0",
   "metadata": {},
   "outputs": [
    {
     "data": {
      "text/plain": [
       "match_no\n",
       "1       1\n",
       "2      23\n",
       "3      13\n",
       "4      12\n",
       "5       1\n",
       "       ..\n",
       "211     0\n",
       "212    20\n",
       "213    73\n",
       "214    25\n",
       "215     7\n",
       "Name: runs, Length: 215, dtype: int8"
      ]
     },
     "execution_count": 208,
     "metadata": {},
     "output_type": "execute_result"
    }
   ],
   "source": [
    "vk.astype('int8')"
   ]
  },
  {
   "cell_type": "code",
   "execution_count": 209,
   "id": "2023fdee-f460-4009-8502-0ac21e4a2912",
   "metadata": {},
   "outputs": [
    {
     "data": {
      "text/plain": [
       "11768"
      ]
     },
     "execution_count": 209,
     "metadata": {},
     "output_type": "execute_result"
    }
   ],
   "source": [
    "sys.getsizeof(vk)"
   ]
  },
  {
   "cell_type": "code",
   "execution_count": 210,
   "id": "0c72b5c7-5065-4502-9a81-1894d1f77570",
   "metadata": {},
   "outputs": [
    {
     "data": {
      "text/plain": [
       "0       48\n",
       "1       57\n",
       "2       40\n",
       "3       43\n",
       "4       44\n",
       "      ... \n",
       "360    231\n",
       "361    226\n",
       "362    155\n",
       "363    144\n",
       "364    172\n",
       "Name: Subscribers gained, Length: 365, dtype: int64"
      ]
     },
     "execution_count": 210,
     "metadata": {},
     "output_type": "execute_result"
    }
   ],
   "source": [
    "subs"
   ]
  },
  {
   "cell_type": "code",
   "execution_count": 211,
   "id": "13c4e12f-4090-48ed-aa17-6192f2ead7bf",
   "metadata": {},
   "outputs": [
    {
     "data": {
      "text/plain": [
       "0       48\n",
       "1       57\n",
       "2       40\n",
       "3       43\n",
       "4       44\n",
       "      ... \n",
       "360    231\n",
       "361    226\n",
       "362    155\n",
       "363    144\n",
       "364    172\n",
       "Name: Subscribers gained, Length: 365, dtype: int16"
      ]
     },
     "execution_count": 211,
     "metadata": {},
     "output_type": "execute_result"
    }
   ],
   "source": [
    "subs.astype('int16')"
   ]
  },
  {
   "cell_type": "code",
   "execution_count": 212,
   "id": "a97827a9-c009-4da0-85d3-55ce54a1b2ae",
   "metadata": {},
   "outputs": [
    {
     "data": {
      "text/plain": [
       "3084"
      ]
     },
     "execution_count": 212,
     "metadata": {},
     "output_type": "execute_result"
    }
   ],
   "source": [
    "sys.getsizeof(subs)"
   ]
  },
  {
   "cell_type": "markdown",
   "id": "b6cfae20-548c-4804-a1a4-e60de3ac9129",
   "metadata": {},
   "source": [
    "### between() \n",
    "- this method is used to filter a Series to include only the rows that satisfy a specified condition regarding a range of values. \n",
    "- This method is particularly useful when you want to filter data based on a range of values for a specific column.\n",
    "- DataFrame.between(left, right, inclusive='both')\r",
    "- left: The lower bound of the range.\r",
    "- right: The upper bound of the range\n",
    "- \n",
    "inclusive: If'both'e, the range includes both left and right bounds. If'left' or 'right'e, the range excludes leftord right bounds\n"
   ]
  },
  {
   "cell_type": "code",
   "execution_count": 213,
   "id": "2117904d-b63b-4d39-9ae7-f3a27a2a487e",
   "metadata": {},
   "outputs": [
    {
     "data": {
      "text/plain": [
       "match_no\n",
       "1      False\n",
       "2      False\n",
       "3      False\n",
       "4      False\n",
       "5      False\n",
       "       ...  \n",
       "211    False\n",
       "212    False\n",
       "213     True\n",
       "214    False\n",
       "215    False\n",
       "Name: runs, Length: 215, dtype: bool"
      ]
     },
     "execution_count": 213,
     "metadata": {},
     "output_type": "execute_result"
    }
   ],
   "source": [
    "# lets say i want to check how many matches virat kohli scored 51 to 99. it will include both 51 and 99\n",
    "vk.between(51,99)"
   ]
  },
  {
   "cell_type": "code",
   "execution_count": 214,
   "id": "f9751d38-e8ec-45e3-9c64-2a35bb727332",
   "metadata": {},
   "outputs": [
    {
     "data": {
      "text/plain": [
       "43"
      ]
     },
     "execution_count": 214,
     "metadata": {},
     "output_type": "execute_result"
    }
   ],
   "source": [
    "vk[vk.between(51,99)].size\n",
    "# the answer is 43"
   ]
  },
  {
   "cell_type": "code",
   "execution_count": 215,
   "id": "26032d34-d503-4483-bf83-d6619fed9054",
   "metadata": {},
   "outputs": [
    {
     "data": {
      "text/plain": [
       "181"
      ]
     },
     "execution_count": 215,
     "metadata": {},
     "output_type": "execute_result"
    }
   ],
   "source": [
    "# lets say i want to check how many days i get subscriber in range 101 to 200\n",
    "subs[subs.between(101,200,inclusive='both')].size"
   ]
  },
  {
   "cell_type": "markdown",
   "id": "330d61bb-a755-449b-9867-1dc4978d0de4",
   "metadata": {},
   "source": [
    "### Clip()\n",
    "- this method is used to limit the values in a DataFrame or Series to a specified minimum and maximum range.\n",
    "- This method is particularly useful when you want to \"clip\" or \"clamp\" the values in your data to be within a certain range."
   ]
  },
  {
   "cell_type": "code",
   "execution_count": 216,
   "id": "58017860-ec01-4116-b931-5ea27e84e8ac",
   "metadata": {},
   "outputs": [
    {
     "data": {
      "text/plain": [
       "0       48\n",
       "1       57\n",
       "2       40\n",
       "3       43\n",
       "4       44\n",
       "      ... \n",
       "360    231\n",
       "361    226\n",
       "362    155\n",
       "363    144\n",
       "364    172\n",
       "Name: Subscribers gained, Length: 365, dtype: int64"
      ]
     },
     "execution_count": 216,
     "metadata": {},
     "output_type": "execute_result"
    }
   ],
   "source": [
    "subs"
   ]
  },
  {
   "cell_type": "code",
   "execution_count": 217,
   "id": "7aa76548-c27e-4a05-9076-49ecdf9ef8c8",
   "metadata": {},
   "outputs": [
    {
     "data": {
      "text/plain": [
       "0      100\n",
       "1      100\n",
       "2      100\n",
       "3      100\n",
       "4      100\n",
       "      ... \n",
       "360    200\n",
       "361    200\n",
       "362    155\n",
       "363    144\n",
       "364    172\n",
       "Name: Subscribers gained, Length: 365, dtype: int64"
      ]
     },
     "execution_count": 217,
     "metadata": {},
     "output_type": "execute_result"
    }
   ],
   "source": [
    "subs.clip(100,200)"
   ]
  },
  {
   "cell_type": "code",
   "execution_count": 218,
   "id": "f6d2761e-d8ad-4ff9-a99c-fd45daa2b250",
   "metadata": {},
   "outputs": [
    {
     "data": {
      "text/plain": [
       "match_no\n",
       "1       1\n",
       "2      23\n",
       "3      13\n",
       "4      12\n",
       "5       1\n",
       "       ..\n",
       "211     0\n",
       "212    20\n",
       "213    73\n",
       "214    25\n",
       "215     7\n",
       "Name: runs, Length: 215, dtype: int64"
      ]
     },
     "execution_count": 218,
     "metadata": {},
     "output_type": "execute_result"
    }
   ],
   "source": [
    "vk"
   ]
  },
  {
   "cell_type": "code",
   "execution_count": 219,
   "id": "50c8de05-48d8-4d43-b213-6295c9297f8e",
   "metadata": {},
   "outputs": [
    {
     "data": {
      "text/plain": [
       "match_no\n",
       "1      10\n",
       "2      23\n",
       "3      13\n",
       "4      12\n",
       "5      10\n",
       "       ..\n",
       "211    10\n",
       "212    20\n",
       "213    73\n",
       "214    25\n",
       "215    10\n",
       "Name: runs, Length: 215, dtype: int64"
      ]
     },
     "execution_count": 219,
     "metadata": {},
     "output_type": "execute_result"
    }
   ],
   "source": [
    "vk.clip(10,100)"
   ]
  },
  {
   "cell_type": "markdown",
   "id": "3d750cc6-bc7b-47ee-961e-0d56a9f098f7",
   "metadata": {},
   "source": [
    "### drop_duplicates()\n",
    "- The drop_duplicates() method can also be applied directly to a Pandas Series to remove duplicate values."
   ]
  },
  {
   "cell_type": "code",
   "execution_count": 220,
   "id": "10dabf03-1313-456a-8b81-556987503c78",
   "metadata": {},
   "outputs": [
    {
     "data": {
      "text/plain": [
       "0    10\n",
       "1    20\n",
       "2    30\n",
       "3    20\n",
       "4    40\n",
       "5    30\n",
       "6    50\n",
       "dtype: int64"
      ]
     },
     "execution_count": 220,
     "metadata": {},
     "output_type": "execute_result"
    }
   ],
   "source": [
    "data = pd.Series([10, 20, 30, 20, 40, 30, 50])\n",
    "data"
   ]
  },
  {
   "cell_type": "code",
   "execution_count": 221,
   "id": "b517f080-6657-4726-9a01-036c98abcc82",
   "metadata": {},
   "outputs": [
    {
     "data": {
      "text/plain": [
       "0    10\n",
       "1    20\n",
       "2    30\n",
       "4    40\n",
       "6    50\n",
       "dtype: int64"
      ]
     },
     "execution_count": 221,
     "metadata": {},
     "output_type": "execute_result"
    }
   ],
   "source": [
    "data.drop_duplicates()"
   ]
  },
  {
   "cell_type": "code",
   "execution_count": 222,
   "id": "6df03ab2-c80f-4c5d-ad54-dc4701a5c28f",
   "metadata": {},
   "outputs": [
    {
     "data": {
      "text/plain": [
       "0    10\n",
       "3    20\n",
       "4    40\n",
       "5    30\n",
       "6    50\n",
       "dtype: int64"
      ]
     },
     "execution_count": 222,
     "metadata": {},
     "output_type": "execute_result"
    }
   ],
   "source": [
    "data.drop_duplicates(keep='last')"
   ]
  },
  {
   "cell_type": "code",
   "execution_count": 223,
   "id": "c590d523-c60c-4ddf-9834-31050c676174",
   "metadata": {},
   "outputs": [
    {
     "data": {
      "text/plain": [
       "0    False\n",
       "1    False\n",
       "2    False\n",
       "3     True\n",
       "4    False\n",
       "5     True\n",
       "6    False\n",
       "dtype: bool"
      ]
     },
     "execution_count": 223,
     "metadata": {},
     "output_type": "execute_result"
    }
   ],
   "source": [
    "data.duplicated()"
   ]
  },
  {
   "cell_type": "code",
   "execution_count": 224,
   "id": "0876570f-c344-4fec-ba36-45b26b8f23fb",
   "metadata": {},
   "outputs": [
    {
     "data": {
      "text/plain": [
       "2"
      ]
     },
     "execution_count": 224,
     "metadata": {},
     "output_type": "execute_result"
    }
   ],
   "source": [
    "data.duplicated().sum()"
   ]
  },
  {
   "cell_type": "code",
   "execution_count": 225,
   "id": "dc8a70a1-4c89-415e-91b5-2776d1ae3e57",
   "metadata": {},
   "outputs": [
    {
     "data": {
      "text/plain": [
       "137"
      ]
     },
     "execution_count": 225,
     "metadata": {},
     "output_type": "execute_result"
    }
   ],
   "source": [
    "vk.duplicated().sum()"
   ]
  },
  {
   "cell_type": "code",
   "execution_count": 226,
   "id": "55cb58c9-7179-49ae-923a-d0bb4a16b0bf",
   "metadata": {},
   "outputs": [
    {
     "data": {
      "text/plain": [
       "movie\n",
       "Uri: The Surgical Strike                   Vicky Kaushal\n",
       "Battalion 609                                Vicky Ahuja\n",
       "The Accidental Prime Minister (film)         Anupam Kher\n",
       "Why Cheat India                            Emraan Hashmi\n",
       "Evening Shadows                         Mona Ambegaonkar\n",
       "                                              ...       \n",
       "Rules: Pyaar Ka Superhit Formula                  Tanuja\n",
       "Right Here Right Now (film)                        Ankit\n",
       "Talaash: The Hunt Begins...                Rakhee Gulzar\n",
       "The Pink Mirror                          Edwin Fernandes\n",
       "Aankhen (2002 film)                         Ajay Dev Gun\n",
       "Name: lead, Length: 567, dtype: object"
      ]
     },
     "execution_count": 226,
     "metadata": {},
     "output_type": "execute_result"
    }
   ],
   "source": [
    "movies.drop_duplicates()"
   ]
  },
  {
   "cell_type": "code",
   "execution_count": 227,
   "id": "37cf4609-def2-463c-9a44-79dc90589034",
   "metadata": {},
   "outputs": [
    {
     "data": {
      "text/plain": [
       "933"
      ]
     },
     "execution_count": 227,
     "metadata": {},
     "output_type": "execute_result"
    }
   ],
   "source": [
    "movies.duplicated().sum()"
   ]
  },
  {
   "cell_type": "code",
   "execution_count": 228,
   "id": "91a40949-ba6c-47d6-a9d4-9299dfb2e911",
   "metadata": {},
   "outputs": [
    {
     "data": {
      "text/plain": [
       "0     1.0\n",
       "1     2.0\n",
       "2     3.0\n",
       "3     NaN\n",
       "4     5.0\n",
       "5     6.0\n",
       "6     NaN\n",
       "7     8.0\n",
       "8     NaN\n",
       "9    10.0\n",
       "dtype: float64"
      ]
     },
     "execution_count": 228,
     "metadata": {},
     "output_type": "execute_result"
    }
   ],
   "source": [
    "temp = pd.Series([1,2,3,np.nan,5,6,np.nan,8,np.nan,10])\n",
    "temp"
   ]
  },
  {
   "cell_type": "code",
   "execution_count": 229,
   "id": "11135c00-8751-4f60-858b-471fbf93a731",
   "metadata": {},
   "outputs": [
    {
     "data": {
      "text/plain": [
       "10"
      ]
     },
     "execution_count": 229,
     "metadata": {},
     "output_type": "execute_result"
    }
   ],
   "source": [
    "# it will count the NAN Values\n",
    "temp.size"
   ]
  },
  {
   "cell_type": "code",
   "execution_count": 230,
   "id": "c94d7cf7-494b-46f8-a211-57ec4bece9ee",
   "metadata": {},
   "outputs": [
    {
     "data": {
      "text/plain": [
       "7"
      ]
     },
     "execution_count": 230,
     "metadata": {},
     "output_type": "execute_result"
    }
   ],
   "source": [
    "# it will neglect the NAN Values and count\n",
    "temp.count()"
   ]
  },
  {
   "cell_type": "markdown",
   "id": "56d21d22-8143-4510-b683-8e6cfbd5d6b7",
   "metadata": {},
   "source": [
    "### isnull() or isna()\n",
    "- The isnull() method in Pandas is used to identify missing or null values in a Series or DataFrame.\n",
    "- It returns a boolean mask of the same shape as the input object.\n",
    "- we can also used notnull() or notna() the invert of these methods."
   ]
  },
  {
   "cell_type": "code",
   "execution_count": 231,
   "id": "56e129e5-f7e5-4713-89a5-e79e7889efba",
   "metadata": {},
   "outputs": [
    {
     "data": {
      "text/plain": [
       "0    False\n",
       "1    False\n",
       "2    False\n",
       "3     True\n",
       "4    False\n",
       "5    False\n",
       "6     True\n",
       "7    False\n",
       "8     True\n",
       "9    False\n",
       "dtype: bool"
      ]
     },
     "execution_count": 231,
     "metadata": {},
     "output_type": "execute_result"
    }
   ],
   "source": [
    "temp.isnull()"
   ]
  },
  {
   "cell_type": "code",
   "execution_count": 232,
   "id": "e7784cf6-3942-4675-a041-9bf8c091bc73",
   "metadata": {},
   "outputs": [
    {
     "data": {
      "text/plain": [
       "3   NaN\n",
       "6   NaN\n",
       "8   NaN\n",
       "dtype: float64"
      ]
     },
     "execution_count": 232,
     "metadata": {},
     "output_type": "execute_result"
    }
   ],
   "source": [
    "temp[temp.isnull()]"
   ]
  },
  {
   "cell_type": "code",
   "execution_count": 233,
   "id": "226ef6d9-509f-41c3-82ae-285678df7e77",
   "metadata": {},
   "outputs": [
    {
     "data": {
      "text/plain": [
       "0     1.0\n",
       "1     2.0\n",
       "2     3.0\n",
       "4     5.0\n",
       "5     6.0\n",
       "7     8.0\n",
       "9    10.0\n",
       "dtype: float64"
      ]
     },
     "execution_count": 233,
     "metadata": {},
     "output_type": "execute_result"
    }
   ],
   "source": [
    "temp[~temp.isna()]"
   ]
  },
  {
   "cell_type": "code",
   "execution_count": 234,
   "id": "4b58c688-e874-4c03-a858-3d8a563f76ba",
   "metadata": {},
   "outputs": [
    {
     "data": {
      "text/plain": [
       "0     True\n",
       "1     True\n",
       "2     True\n",
       "3    False\n",
       "4     True\n",
       "5     True\n",
       "6    False\n",
       "7     True\n",
       "8    False\n",
       "9     True\n",
       "dtype: bool"
      ]
     },
     "execution_count": 234,
     "metadata": {},
     "output_type": "execute_result"
    }
   ],
   "source": [
    "# notnull() or notna()\n",
    "temp.notnull()"
   ]
  },
  {
   "cell_type": "code",
   "execution_count": 235,
   "id": "7d2e5998-a372-4ff9-bcb1-1e0c8bc6f865",
   "metadata": {},
   "outputs": [
    {
     "data": {
      "text/plain": [
       "0     1.0\n",
       "1     2.0\n",
       "2     3.0\n",
       "4     5.0\n",
       "5     6.0\n",
       "7     8.0\n",
       "9    10.0\n",
       "dtype: float64"
      ]
     },
     "execution_count": 235,
     "metadata": {},
     "output_type": "execute_result"
    }
   ],
   "source": [
    "temp[temp.notna()]"
   ]
  },
  {
   "cell_type": "markdown",
   "id": "eadc6d93-ec9a-4eeb-987a-3247547b63d7",
   "metadata": {},
   "source": [
    "### dropna()\n",
    "- The dropna() method in Pandas is used to remove missing values (NaN or None) from a Series or DataFrame. \n",
    "- This method provides a way to filter out rows or columns containing null values."
   ]
  },
  {
   "cell_type": "code",
   "execution_count": 236,
   "id": "026a922b-8972-458d-ab91-38fa212872ea",
   "metadata": {},
   "outputs": [
    {
     "data": {
      "text/plain": [
       "0     1.0\n",
       "1     2.0\n",
       "2     3.0\n",
       "3     NaN\n",
       "4     5.0\n",
       "5     6.0\n",
       "6     NaN\n",
       "7     8.0\n",
       "8     NaN\n",
       "9    10.0\n",
       "dtype: float64"
      ]
     },
     "execution_count": 236,
     "metadata": {},
     "output_type": "execute_result"
    }
   ],
   "source": [
    "temp"
   ]
  },
  {
   "cell_type": "code",
   "execution_count": 237,
   "id": "9d734560-1361-44b4-81ec-14519a632aa5",
   "metadata": {},
   "outputs": [
    {
     "data": {
      "text/plain": [
       "0     1.0\n",
       "1     2.0\n",
       "2     3.0\n",
       "4     5.0\n",
       "5     6.0\n",
       "7     8.0\n",
       "9    10.0\n",
       "dtype: float64"
      ]
     },
     "execution_count": 237,
     "metadata": {},
     "output_type": "execute_result"
    }
   ],
   "source": [
    "# its a temporary operation\n",
    "temp.dropna()"
   ]
  },
  {
   "cell_type": "code",
   "execution_count": 238,
   "id": "037bd88d-460b-4400-94b2-657e91444e1e",
   "metadata": {},
   "outputs": [
    {
     "data": {
      "text/plain": [
       "0     1.0\n",
       "1     2.0\n",
       "2     3.0\n",
       "4     5.0\n",
       "5     6.0\n",
       "7     8.0\n",
       "9    10.0\n",
       "dtype: float64"
      ]
     },
     "execution_count": 238,
     "metadata": {},
     "output_type": "execute_result"
    }
   ],
   "source": [
    "# this is permenant operation\n",
    "temp1 = temp.dropna()\n",
    "temp1"
   ]
  },
  {
   "cell_type": "markdown",
   "id": "db4385a1-bf06-44d7-9d8e-01f70a72658c",
   "metadata": {},
   "source": [
    "### fillna()\n",
    "- The fillna() method in Pandas is used to fill missing (NaN or None) values in a Series with specified values. \n",
    "- This method provides a way to handle and replace null values according to your requirements."
   ]
  },
  {
   "cell_type": "code",
   "execution_count": 239,
   "id": "5f70d804-48da-4be7-ad59-c1abee030a8c",
   "metadata": {},
   "outputs": [
    {
     "data": {
      "text/plain": [
       "0     1.0\n",
       "1     2.0\n",
       "2     3.0\n",
       "3     NaN\n",
       "4     5.0\n",
       "5     6.0\n",
       "6     NaN\n",
       "7     8.0\n",
       "8     NaN\n",
       "9    10.0\n",
       "dtype: float64"
      ]
     },
     "execution_count": 239,
     "metadata": {},
     "output_type": "execute_result"
    }
   ],
   "source": [
    "temp"
   ]
  },
  {
   "cell_type": "code",
   "execution_count": 240,
   "id": "e5058811-cdb3-400a-9790-6c7fdb12b8a0",
   "metadata": {},
   "outputs": [
    {
     "data": {
      "text/plain": [
       "0     1.0\n",
       "1     2.0\n",
       "2     3.0\n",
       "3     5.0\n",
       "4     5.0\n",
       "5     6.0\n",
       "6     5.0\n",
       "7     8.0\n",
       "8     5.0\n",
       "9    10.0\n",
       "dtype: float64"
      ]
     },
     "execution_count": 240,
     "metadata": {},
     "output_type": "execute_result"
    }
   ],
   "source": [
    "temp.fillna(temp.mean())"
   ]
  },
  {
   "cell_type": "markdown",
   "id": "ed014a14-ff62-4f9d-91d8-95135d235aa8",
   "metadata": {},
   "source": [
    "### isin()\n",
    "- The isin() method returns a boolean mask, where True indicates that the value is in the specified list, and False indicates that it is not."
   ]
  },
  {
   "cell_type": "code",
   "execution_count": 241,
   "id": "9e3c3db1-1608-4c74-a99c-1e82909ca117",
   "metadata": {},
   "outputs": [
    {
     "data": {
      "text/plain": [
       "match_no\n",
       "1       1\n",
       "2      23\n",
       "3      13\n",
       "4      12\n",
       "5       1\n",
       "       ..\n",
       "211     0\n",
       "212    20\n",
       "213    73\n",
       "214    25\n",
       "215     7\n",
       "Name: runs, Length: 215, dtype: int64"
      ]
     },
     "execution_count": 241,
     "metadata": {},
     "output_type": "execute_result"
    }
   ],
   "source": [
    "vk"
   ]
  },
  {
   "cell_type": "code",
   "execution_count": 242,
   "id": "60717232-85ed-45c4-b430-b21408015ce2",
   "metadata": {},
   "outputs": [
    {
     "data": {
      "text/plain": [
       "match_no\n",
       "82    99\n",
       "86    49\n",
       "Name: runs, dtype: int64"
      ]
     },
     "execution_count": 242,
     "metadata": {},
     "output_type": "execute_result"
    }
   ],
   "source": [
    "vk[(vk == 49) | (vk == 99)]"
   ]
  },
  {
   "cell_type": "code",
   "execution_count": 243,
   "id": "047963e8-da22-4cea-8a96-28d1c9aa9858",
   "metadata": {},
   "outputs": [
    {
     "data": {
      "text/plain": [
       "match_no\n",
       "82    99\n",
       "86    49\n",
       "Name: runs, dtype: int64"
      ]
     },
     "execution_count": 243,
     "metadata": {},
     "output_type": "execute_result"
    }
   ],
   "source": [
    "vk[vk.isin([49,99])]"
   ]
  },
  {
   "cell_type": "code",
   "execution_count": 244,
   "id": "15119805-caa8-45a4-9178-972c1d68c726",
   "metadata": {},
   "outputs": [
    {
     "data": {
      "text/plain": [
       "100    100\n",
       "107    100\n",
       "145    100\n",
       "Name: Subscribers gained, dtype: int64"
      ]
     },
     "execution_count": 244,
     "metadata": {},
     "output_type": "execute_result"
    }
   ],
   "source": [
    "subs[subs.isin([100,200,300])]"
   ]
  },
  {
   "cell_type": "markdown",
   "id": "c3d3c676-20d2-4f86-bebd-28890c5b065d",
   "metadata": {},
   "source": [
    "### apply()\n",
    "- The apply() method in Pandas is used to apply a function along the axis of a DataFrame or a Series.\n",
    "- It is a powerful and flexible tool for data manipulation and transformation.\n",
    "- Series.apply(func, convert_dtype=True, args=(), **kwds)\r\n"
   ]
  },
  {
   "cell_type": "code",
   "execution_count": 245,
   "id": "7929a21d-0489-4f7c-858a-efd56b12172f",
   "metadata": {},
   "outputs": [
    {
     "data": {
      "text/plain": [
       "movie\n",
       "Uri: The Surgical Strike                   Vicky Kaushal\n",
       "Battalion 609                                Vicky Ahuja\n",
       "The Accidental Prime Minister (film)         Anupam Kher\n",
       "Why Cheat India                            Emraan Hashmi\n",
       "Evening Shadows                         Mona Ambegaonkar\n",
       "                                              ...       \n",
       "Hum Tumhare Hain Sanam                    Shah Rukh Khan\n",
       "Aankhen (2002 film)                         Ajay Dev Gun\n",
       "Saathiya (film)                             Vivek Oberoi\n",
       "Company (film)                                Ajay Devgn\n",
       "Awara Paagal Deewana                        Akshay Kumar\n",
       "Name: lead, Length: 1500, dtype: object"
      ]
     },
     "execution_count": 245,
     "metadata": {},
     "output_type": "execute_result"
    }
   ],
   "source": [
    "movies"
   ]
  },
  {
   "cell_type": "code",
   "execution_count": 246,
   "id": "6bd60b7f-dea7-4c48-a220-52611b9b9e15",
   "metadata": {},
   "outputs": [
    {
     "data": {
      "text/plain": [
       "movie\n",
       "Uri: The Surgical Strike                 VICKY\n",
       "Battalion 609                            VICKY\n",
       "The Accidental Prime Minister (film)    ANUPAM\n",
       "Why Cheat India                         EMRAAN\n",
       "Evening Shadows                           MONA\n",
       "                                         ...  \n",
       "Hum Tumhare Hain Sanam                    SHAH\n",
       "Aankhen (2002 film)                       AJAY\n",
       "Saathiya (film)                          VIVEK\n",
       "Company (film)                            AJAY\n",
       "Awara Paagal Deewana                    AKSHAY\n",
       "Name: lead, Length: 1500, dtype: object"
      ]
     },
     "execution_count": 246,
     "metadata": {},
     "output_type": "execute_result"
    }
   ],
   "source": [
    "# lets say i  want to remove the last name of actors and convert it into upper case\n",
    "movies.apply(lambda x:x.split()[0].upper())"
   ]
  },
  {
   "cell_type": "code",
   "execution_count": 247,
   "id": "e135a133-92c7-43d1-8456-8f18b02caa72",
   "metadata": {},
   "outputs": [
    {
     "data": {
      "text/plain": [
       "0       Bad Day!\n",
       "1       Bad Day!\n",
       "2       Bad Day!\n",
       "3       Bad Day!\n",
       "4       Bad Day!\n",
       "         ...    \n",
       "360    Good Day!\n",
       "361    Good Day!\n",
       "362    Good Day!\n",
       "363    Good Day!\n",
       "364    Good Day!\n",
       "Name: Subscribers gained, Length: 365, dtype: object"
      ]
     },
     "execution_count": 247,
     "metadata": {},
     "output_type": "execute_result"
    }
   ],
   "source": [
    "subs.apply(lambda x: 'Good Day!' if x>subs.mean() else 'Bad Day!')"
   ]
  },
  {
   "cell_type": "code",
   "execution_count": 248,
   "id": "95ecda8d-1ae0-4854-b413-50aa54acb4df",
   "metadata": {},
   "outputs": [
    {
     "data": {
      "text/plain": [
       "match_no\n",
       "1      GHANTAY KA KING\n",
       "2      GHANTAY KA KING\n",
       "3      GHANTAY KA KING\n",
       "4      GHANTAY KA KING\n",
       "5      GHANTAY KA KING\n",
       "            ...       \n",
       "211    GHANTAY KA KING\n",
       "212    GHANTAY KA KING\n",
       "213               KING\n",
       "214    GHANTAY KA KING\n",
       "215    GHANTAY KA KING\n",
       "Name: runs, Length: 215, dtype: object"
      ]
     },
     "execution_count": 248,
     "metadata": {},
     "output_type": "execute_result"
    }
   ],
   "source": [
    "vk1 = vk.apply(lambda x: 'KING' if (x>=50) else 'GHANTAY KA KING')\n",
    "vk1"
   ]
  },
  {
   "cell_type": "code",
   "execution_count": 249,
   "id": "909ab289-107d-41c3-b39e-9e3541a9ea92",
   "metadata": {},
   "outputs": [
    {
     "data": {
      "text/plain": [
       "165"
      ]
     },
     "execution_count": 249,
     "metadata": {},
     "output_type": "execute_result"
    }
   ],
   "source": [
    "vk1.isin(['GHANTAY KA KING']).sum()"
   ]
  },
  {
   "cell_type": "markdown",
   "id": "0b6ba5d4-9711-4183-8c7c-5cf965c3defb",
   "metadata": {},
   "source": [
    "### view and Copy"
   ]
  },
  {
   "cell_type": "code",
   "execution_count": 250,
   "id": "8207f8ca-9a77-4b81-8069-cdddccefe25c",
   "metadata": {},
   "outputs": [
    {
     "data": {
      "text/plain": [
       "match_no\n",
       "1       1\n",
       "2      23\n",
       "3      13\n",
       "4      12\n",
       "5       1\n",
       "       ..\n",
       "211     0\n",
       "212    20\n",
       "213    73\n",
       "214    25\n",
       "215     7\n",
       "Name: runs, Length: 215, dtype: int64"
      ]
     },
     "execution_count": 250,
     "metadata": {},
     "output_type": "execute_result"
    }
   ],
   "source": [
    "vk"
   ]
  },
  {
   "cell_type": "code",
   "execution_count": 251,
   "id": "0e523246-9737-4574-8454-76d4f16c2b5a",
   "metadata": {},
   "outputs": [
    {
     "data": {
      "text/plain": [
       "match_no\n",
       "1     1\n",
       "2    23\n",
       "3    13\n",
       "4    12\n",
       "5     1\n",
       "Name: runs, dtype: int64"
      ]
     },
     "execution_count": 251,
     "metadata": {},
     "output_type": "execute_result"
    }
   ],
   "source": [
    "new_runs = vk.head()\n",
    "new_runs"
   ]
  },
  {
   "cell_type": "code",
   "execution_count": 252,
   "id": "f584b66a-987b-42b0-b781-44e4cc5ae6dc",
   "metadata": {},
   "outputs": [],
   "source": [
    "new_runs[1] = 100"
   ]
  },
  {
   "cell_type": "code",
   "execution_count": 253,
   "id": "6b0511a1-3e8f-451d-99c0-8d7007766e50",
   "metadata": {},
   "outputs": [
    {
     "data": {
      "text/plain": [
       "match_no\n",
       "1    100\n",
       "2     23\n",
       "3     13\n",
       "4     12\n",
       "5      1\n",
       "Name: runs, dtype: int64"
      ]
     },
     "execution_count": 253,
     "metadata": {},
     "output_type": "execute_result"
    }
   ],
   "source": [
    "new_runs"
   ]
  },
  {
   "cell_type": "code",
   "execution_count": 254,
   "id": "4f80fd39-cb51-47d8-8f63-b650610ff032",
   "metadata": {},
   "outputs": [
    {
     "data": {
      "text/plain": [
       "match_no\n",
       "1      100\n",
       "2       23\n",
       "3       13\n",
       "4       12\n",
       "5        1\n",
       "      ... \n",
       "211      0\n",
       "212     20\n",
       "213     73\n",
       "214     25\n",
       "215      7\n",
       "Name: runs, Length: 215, dtype: int64"
      ]
     },
     "execution_count": 254,
     "metadata": {},
     "output_type": "execute_result"
    }
   ],
   "source": [
    "vk"
   ]
  },
  {
   "cell_type": "code",
   "execution_count": 255,
   "id": "5239db32-f0cf-495f-961e-22790eaeca4b",
   "metadata": {},
   "outputs": [
    {
     "data": {
      "text/plain": [
       "match_no\n",
       "1    100\n",
       "2     23\n",
       "3     13\n",
       "4     12\n",
       "5      1\n",
       "Name: runs, dtype: int64"
      ]
     },
     "execution_count": 255,
     "metadata": {},
     "output_type": "execute_result"
    }
   ],
   "source": [
    "new = vk.head().copy()\n",
    "new"
   ]
  },
  {
   "cell_type": "code",
   "execution_count": 256,
   "id": "8e3e411d-a7d0-4333-bb90-54ea7abb0f90",
   "metadata": {},
   "outputs": [
    {
     "data": {
      "text/plain": [
       "match_no\n",
       "1     1\n",
       "2    23\n",
       "3    13\n",
       "4    12\n",
       "5     1\n",
       "Name: runs, dtype: int64"
      ]
     },
     "execution_count": 256,
     "metadata": {},
     "output_type": "execute_result"
    }
   ],
   "source": [
    "new[1] = 1\n",
    "new"
   ]
  },
  {
   "cell_type": "code",
   "execution_count": 257,
   "id": "8846a4ff-059f-4575-8560-6a7ea0593459",
   "metadata": {},
   "outputs": [
    {
     "data": {
      "text/plain": [
       "match_no\n",
       "1      100\n",
       "2       23\n",
       "3       13\n",
       "4       12\n",
       "5        1\n",
       "      ... \n",
       "211      0\n",
       "212     20\n",
       "213     73\n",
       "214     25\n",
       "215      7\n",
       "Name: runs, Length: 215, dtype: int64"
      ]
     },
     "execution_count": 257,
     "metadata": {},
     "output_type": "execute_result"
    }
   ],
   "source": [
    "vk"
   ]
  },
  {
   "cell_type": "code",
   "execution_count": 258,
   "id": "61829b36-ad12-4565-9617-8327b26675b6",
   "metadata": {},
   "outputs": [
    {
     "data": {
      "text/plain": [
       "match_no\n",
       "1       1\n",
       "2      23\n",
       "3      13\n",
       "4      12\n",
       "5       1\n",
       "       ..\n",
       "211     0\n",
       "212    20\n",
       "213    73\n",
       "214    25\n",
       "215     7\n",
       "Name: runs, Length: 215, dtype: int64"
      ]
     },
     "execution_count": 258,
     "metadata": {},
     "output_type": "execute_result"
    }
   ],
   "source": [
    "vk[1] = 1\n",
    "vk"
   ]
  }
 ],
 "metadata": {
  "kernelspec": {
   "display_name": "Python 3 (ipykernel)",
   "language": "python",
   "name": "python3"
  },
  "language_info": {
   "codemirror_mode": {
    "name": "ipython",
    "version": 3
   },
   "file_extension": ".py",
   "mimetype": "text/x-python",
   "name": "python",
   "nbconvert_exporter": "python",
   "pygments_lexer": "ipython3",
   "version": "3.12.4"
  },
  "widgets": {
   "application/vnd.jupyter.widget-state+json": {
    "state": {},
    "version_major": 2,
    "version_minor": 0
   }
  }
 },
 "nbformat": 4,
 "nbformat_minor": 5
}
